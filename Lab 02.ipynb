{
 "cells": [
  {
   "cell_type": "markdown",
   "id": "af03c23d",
   "metadata": {},
   "source": [
    "## 1. Operators in Python"
   ]
  },
  {
   "cell_type": "markdown",
   "id": "5f609803",
   "metadata": {},
   "source": [
    "### Arithmetic Operators  \n",
    "+, -, *, /, %, **, //"
   ]
  },
  {
   "cell_type": "code",
   "execution_count": 1,
   "id": "f62c5f6b",
   "metadata": {},
   "outputs": [],
   "source": [
    "a = 10\n",
    "b = 3"
   ]
  },
  {
   "cell_type": "code",
   "execution_count": 2,
   "id": "6fc50408",
   "metadata": {},
   "outputs": [
    {
     "name": "stdout",
     "output_type": "stream",
     "text": [
      "13\n"
     ]
    }
   ],
   "source": [
    "print(a + b)  # 13 (Addition)"
   ]
  },
  {
   "cell_type": "code",
   "execution_count": 3,
   "id": "00abd645",
   "metadata": {},
   "outputs": [
    {
     "name": "stdout",
     "output_type": "stream",
     "text": [
      "7\n"
     ]
    }
   ],
   "source": [
    "print(a - b)  # 7 (Subtraction)"
   ]
  },
  {
   "cell_type": "code",
   "execution_count": 4,
   "id": "1b8a74fd",
   "metadata": {},
   "outputs": [
    {
     "name": "stdout",
     "output_type": "stream",
     "text": [
      "30\n"
     ]
    }
   ],
   "source": [
    "print(a * b)  # 30 (Multiplication)"
   ]
  },
  {
   "cell_type": "code",
   "execution_count": 5,
   "id": "e2097073",
   "metadata": {},
   "outputs": [
    {
     "name": "stdout",
     "output_type": "stream",
     "text": [
      "3.3333333333333335\n"
     ]
    }
   ],
   "source": [
    "print(a / b)  # 3.333... (Division)"
   ]
  },
  {
   "cell_type": "code",
   "execution_count": 6,
   "id": "ee2ece17",
   "metadata": {},
   "outputs": [
    {
     "name": "stdout",
     "output_type": "stream",
     "text": [
      "1\n"
     ]
    }
   ],
   "source": [
    "print(a % b)  # 1 (Modulus - Remainder)"
   ]
  },
  {
   "cell_type": "code",
   "execution_count": 7,
   "id": "4025d517",
   "metadata": {},
   "outputs": [
    {
     "name": "stdout",
     "output_type": "stream",
     "text": [
      "1000\n"
     ]
    }
   ],
   "source": [
    "print(a ** b) # 1000 (Exponentiation)"
   ]
  },
  {
   "cell_type": "code",
   "execution_count": 8,
   "id": "538fe8ee",
   "metadata": {},
   "outputs": [
    {
     "name": "stdout",
     "output_type": "stream",
     "text": [
      "3\n"
     ]
    }
   ],
   "source": [
    "print(a // b) # 3 (Floor Division)"
   ]
  },
  {
   "cell_type": "markdown",
   "id": "8816a745",
   "metadata": {},
   "source": [
    "### Comparison Operators\n",
    "==, !=, >, <, >=, <="
   ]
  },
  {
   "cell_type": "code",
   "execution_count": 9,
   "id": "e2491ca4",
   "metadata": {},
   "outputs": [],
   "source": [
    "a = 10\n",
    "b = 3"
   ]
  },
  {
   "cell_type": "code",
   "execution_count": 10,
   "id": "7bf4dbaf",
   "metadata": {},
   "outputs": [
    {
     "name": "stdout",
     "output_type": "stream",
     "text": [
      "False\n"
     ]
    }
   ],
   "source": [
    "print(a == b)  # False"
   ]
  },
  {
   "cell_type": "code",
   "execution_count": 11,
   "id": "af736663",
   "metadata": {},
   "outputs": [
    {
     "name": "stdout",
     "output_type": "stream",
     "text": [
      "True\n"
     ]
    }
   ],
   "source": [
    "print(a != b)  # True"
   ]
  },
  {
   "cell_type": "code",
   "execution_count": 12,
   "id": "02df2ad5",
   "metadata": {},
   "outputs": [
    {
     "name": "stdout",
     "output_type": "stream",
     "text": [
      "True\n"
     ]
    }
   ],
   "source": [
    "print(a > b)   # True"
   ]
  },
  {
   "cell_type": "code",
   "execution_count": 13,
   "id": "6b8724e7",
   "metadata": {},
   "outputs": [
    {
     "name": "stdout",
     "output_type": "stream",
     "text": [
      "False\n"
     ]
    }
   ],
   "source": [
    "print(a < b)   # False"
   ]
  },
  {
   "cell_type": "code",
   "execution_count": 14,
   "id": "616fbf9d",
   "metadata": {},
   "outputs": [
    {
     "name": "stdout",
     "output_type": "stream",
     "text": [
      "True\n"
     ]
    }
   ],
   "source": [
    "print(a >= b)  # True"
   ]
  },
  {
   "cell_type": "code",
   "execution_count": 15,
   "id": "3900d3fd",
   "metadata": {},
   "outputs": [
    {
     "name": "stdout",
     "output_type": "stream",
     "text": [
      "False\n"
     ]
    }
   ],
   "source": [
    "print(a <= b)  # False"
   ]
  },
  {
   "cell_type": "markdown",
   "id": "df1b1f48",
   "metadata": {},
   "source": [
    "### Logical Operators"
   ]
  },
  {
   "cell_type": "code",
   "execution_count": 17,
   "id": "f1d4453b",
   "metadata": {},
   "outputs": [],
   "source": [
    "x = True\n",
    "y = False"
   ]
  },
  {
   "cell_type": "code",
   "execution_count": 18,
   "id": "b50c32ea",
   "metadata": {},
   "outputs": [
    {
     "name": "stdout",
     "output_type": "stream",
     "text": [
      "False\n"
     ]
    }
   ],
   "source": [
    "print(x and y)  # False"
   ]
  },
  {
   "cell_type": "code",
   "execution_count": 19,
   "id": "7422117f",
   "metadata": {},
   "outputs": [
    {
     "name": "stdout",
     "output_type": "stream",
     "text": [
      "True\n"
     ]
    }
   ],
   "source": [
    "print(x or y)   # True"
   ]
  },
  {
   "cell_type": "code",
   "execution_count": 21,
   "id": "296a922d",
   "metadata": {},
   "outputs": [
    {
     "name": "stdout",
     "output_type": "stream",
     "text": [
      "False\n"
     ]
    }
   ],
   "source": [
    "print(not x)    # False"
   ]
  },
  {
   "cell_type": "markdown",
   "id": "a43de56f",
   "metadata": {},
   "source": [
    "### Assignment Operators"
   ]
  },
  {
   "cell_type": "code",
   "execution_count": null,
   "id": "9980cc7b",
   "metadata": {},
   "outputs": [],
   "source": [
    "c = 5"
   ]
  },
  {
   "cell_type": "code",
   "execution_count": 3,
   "id": "b1cb661b",
   "metadata": {},
   "outputs": [
    {
     "ename": "NameError",
     "evalue": "name 'c' is not defined",
     "output_type": "error",
     "traceback": [
      "\u001b[31m---------------------------------------------------------------------------\u001b[39m",
      "\u001b[31mNameError\u001b[39m                                 Traceback (most recent call last)",
      "\u001b[36mCell\u001b[39m\u001b[36m \u001b[39m\u001b[32mIn[3]\u001b[39m\u001b[32m, line 1\u001b[39m\n\u001b[32m----> \u001b[39m\u001b[32m1\u001b[39m \u001b[43mc\u001b[49m += \u001b[32m2\u001b[39m  \u001b[38;5;66;03m# c = c + 2 → 7\u001b[39;00m\n\u001b[32m      2\u001b[39m \u001b[38;5;28mprint\u001b[39m(c)\n",
      "\u001b[31mNameError\u001b[39m: name 'c' is not defined"
     ]
    }
   ],
   "source": [
    "c += 2  # c = c + 2 → 7\n",
    "print(c)"
   ]
  },
  {
   "cell_type": "code",
   "execution_count": 66,
   "id": "e23b6b2e",
   "metadata": {},
   "outputs": [
    {
     "name": "stdout",
     "output_type": "stream",
     "text": [
      "6\n"
     ]
    }
   ],
   "source": [
    "c -= 1  # c = c - 1 → 6\n",
    "print(c)"
   ]
  },
  {
   "cell_type": "code",
   "execution_count": 67,
   "id": "7b6cee36",
   "metadata": {},
   "outputs": [
    {
     "name": "stdout",
     "output_type": "stream",
     "text": [
      "18\n"
     ]
    }
   ],
   "source": [
    "c *= 3  # c = c * 3 → 18\n",
    "print(c)"
   ]
  },
  {
   "cell_type": "markdown",
   "id": "b7eac2d8",
   "metadata": {},
   "source": [
    "### Identity Operators (check memory location)"
   ]
  },
  {
   "cell_type": "code",
   "execution_count": 27,
   "id": "cfa6411d",
   "metadata": {},
   "outputs": [],
   "source": [
    "list1 = [1, 2, 3]\n",
    "list2 = [1, 2, 3]"
   ]
  },
  {
   "cell_type": "code",
   "execution_count": 31,
   "id": "8787cb8c",
   "metadata": {},
   "outputs": [
    {
     "name": "stdout",
     "output_type": "stream",
     "text": [
      "False\n"
     ]
    }
   ],
   "source": [
    "print(list1 is list2)      # False (different objects)"
   ]
  },
  {
   "cell_type": "code",
   "execution_count": 29,
   "id": "bd77b741",
   "metadata": {},
   "outputs": [
    {
     "name": "stdout",
     "output_type": "stream",
     "text": [
      "True\n"
     ]
    }
   ],
   "source": [
    "print(list1 == list2)      # True (same values)"
   ]
  },
  {
   "cell_type": "markdown",
   "id": "08968754",
   "metadata": {},
   "source": [
    "### Membership Operators"
   ]
  },
  {
   "cell_type": "code",
   "execution_count": 32,
   "id": "91d6b608",
   "metadata": {},
   "outputs": [],
   "source": [
    "fruits = [\"apple\", \"banana\", \"cherry\"]"
   ]
  },
  {
   "cell_type": "code",
   "execution_count": 34,
   "id": "9815d43c",
   "metadata": {},
   "outputs": [
    {
     "name": "stdout",
     "output_type": "stream",
     "text": [
      "True\n"
     ]
    }
   ],
   "source": [
    "print(\"banana\" in fruits)      # True"
   ]
  },
  {
   "cell_type": "code",
   "execution_count": 35,
   "id": "10c9215a",
   "metadata": {},
   "outputs": [
    {
     "name": "stdout",
     "output_type": "stream",
     "text": [
      "True\n"
     ]
    }
   ],
   "source": [
    "print(\"mango\" not in fruits)   # True"
   ]
  },
  {
   "cell_type": "markdown",
   "id": "7f91c38c",
   "metadata": {},
   "source": [
    "## 2. Input and Output (I/O)"
   ]
  },
  {
   "cell_type": "code",
   "execution_count": 36,
   "id": "568e67ee",
   "metadata": {},
   "outputs": [
    {
     "name": "stdout",
     "output_type": "stream",
     "text": [
      "Enter your name: 12\n",
      "Enter your age: 21\n"
     ]
    }
   ],
   "source": [
    "# Taking user input\n",
    "name = input(\"Enter your name: \")\n",
    "age = int(input(\"Enter your age: \"))  # Convert to integer"
   ]
  },
  {
   "cell_type": "code",
   "execution_count": 37,
   "id": "38a00e22",
   "metadata": {},
   "outputs": [
    {
     "name": "stdout",
     "output_type": "stream",
     "text": [
      "Hello, 12 ! You are 21 years old.\n"
     ]
    }
   ],
   "source": [
    "# Printing output\n",
    "print(\"Hello,\", name, \"! You are\", age, \"years old.\")"
   ]
  },
  {
   "cell_type": "code",
   "execution_count": 38,
   "id": "90e50e27",
   "metadata": {},
   "outputs": [
    {
     "name": "stdout",
     "output_type": "stream",
     "text": [
      "Hello, 12! You are 21 years old.\n"
     ]
    }
   ],
   "source": [
    "# String formatting (f-strings - Python 3.6+)\n",
    "print(f\"Hello, {name}! You are {age} years old.\")"
   ]
  },
  {
   "cell_type": "code",
   "execution_count": 39,
   "id": "6d5db7a9",
   "metadata": {},
   "outputs": [
    {
     "name": "stdout",
     "output_type": "stream",
     "text": [
      "Hello, 12! You are 21 years old.\n"
     ]
    }
   ],
   "source": [
    "# Using .format()\n",
    "print(\"Hello, {}! You are {} years old.\".format(name, age))"
   ]
  },
  {
   "cell_type": "markdown",
   "id": "174e58ee",
   "metadata": {},
   "source": [
    "## 3. Control Flow\n",
    "- **a.** if"
   ]
  },
  {
   "cell_type": "code",
   "execution_count": 40,
   "id": "94b82286",
   "metadata": {},
   "outputs": [
    {
     "name": "stdout",
     "output_type": "stream",
     "text": [
      "Positive\n"
     ]
    }
   ],
   "source": [
    "num = 10\n",
    "if num > 0:\n",
    "    print(\"Positive\")"
   ]
  },
  {
   "cell_type": "markdown",
   "id": "9db98495",
   "metadata": {},
   "source": [
    "- **b.** if-else"
   ]
  },
  {
   "cell_type": "code",
   "execution_count": 43,
   "id": "81c1f1d0",
   "metadata": {},
   "outputs": [
    {
     "name": "stdout",
     "output_type": "stream",
     "text": [
      "Zero\n"
     ]
    }
   ],
   "source": [
    "num = 0\n",
    "if num > 0:\n",
    "    print(\"Positive\")\n",
    "else:\n",
    "    print(\"Zero\")"
   ]
  },
  {
   "cell_type": "markdown",
   "id": "01839697",
   "metadata": {},
   "source": [
    "- **c.** if-elif-else"
   ]
  },
  {
   "cell_type": "code",
   "execution_count": 42,
   "id": "0cf7a411",
   "metadata": {},
   "outputs": [
    {
     "name": "stdout",
     "output_type": "stream",
     "text": [
      "Negative\n"
     ]
    }
   ],
   "source": [
    "num = -10\n",
    "if num > 0:\n",
    "    print(\"Positive\")\n",
    "elif num < 0:\n",
    "    print(\"Negative\")\n",
    "else:\n",
    "    print(\"Zero\")"
   ]
  },
  {
   "cell_type": "markdown",
   "id": "cbb63e40",
   "metadata": {},
   "source": [
    "## Loops"
   ]
  },
  {
   "cell_type": "markdown",
   "id": "33697370",
   "metadata": {},
   "source": [
    "### for"
   ]
  },
  {
   "cell_type": "code",
   "execution_count": 45,
   "id": "468295c9",
   "metadata": {},
   "outputs": [
    {
     "name": "stdout",
     "output_type": "stream",
     "text": [
      "0\n",
      "1\n",
      "2\n",
      "3\n",
      "4\n"
     ]
    }
   ],
   "source": [
    "#For loop\n",
    "for i in range(5):  # 0 to 4\n",
    "    print(i)"
   ]
  },
  {
   "cell_type": "code",
   "execution_count": 50,
   "id": "b4c5c72a",
   "metadata": {},
   "outputs": [
    {
     "name": "stdout",
     "output_type": "stream",
     "text": [
      "apple\n",
      "banana\n",
      "cherry\n"
     ]
    }
   ],
   "source": [
    "fruits = [\"apple\", \"banana\", \"cherry\"]\n",
    "for fruit in fruits:\n",
    "    print(fruit)"
   ]
  },
  {
   "cell_type": "code",
   "execution_count": 52,
   "id": "19eef7fb",
   "metadata": {},
   "outputs": [
    {
     "name": "stdout",
     "output_type": "stream",
     "text": [
      "2\n",
      "4\n",
      "6\n",
      "8\n"
     ]
    }
   ],
   "source": [
    "for i in range(2, 10, 2):  # 2 to 9, step=2\n",
    "    print(i)"
   ]
  },
  {
   "cell_type": "code",
   "execution_count": 53,
   "id": "b3bd9000",
   "metadata": {},
   "outputs": [
    {
     "name": "stdout",
     "output_type": "stream",
     "text": [
      "P\n",
      "y\n",
      "t\n",
      "h\n",
      "o\n",
      "n\n"
     ]
    }
   ],
   "source": [
    "word = \"Python\"\n",
    "for letter in word:\n",
    "    print(letter)"
   ]
  },
  {
   "cell_type": "code",
   "execution_count": 54,
   "id": "2e12e249",
   "metadata": {},
   "outputs": [
    {
     "name": "stdout",
     "output_type": "stream",
     "text": [
      "name : Alice\n",
      "age : 20\n",
      "grade : A\n"
     ]
    }
   ],
   "source": [
    "student = {\"name\": \"Alice\", \"age\": 20, \"grade\": \"A\"}\n",
    "for key in student:\n",
    "    print(key, \":\", student[key])"
   ]
  },
  {
   "cell_type": "markdown",
   "id": "6f50d9d9",
   "metadata": {},
   "source": [
    "### while loop"
   ]
  },
  {
   "cell_type": "code",
   "execution_count": 49,
   "id": "ac640f49",
   "metadata": {},
   "outputs": [
    {
     "name": "stdout",
     "output_type": "stream",
     "text": [
      "Count: 0\n",
      "Count: 1\n",
      "Count: 2\n"
     ]
    }
   ],
   "source": [
    "# While loop\n",
    "count = 0\n",
    "while count < 3:\n",
    "    print(\"Count:\", count)\n",
    "    count += 1"
   ]
  },
  {
   "cell_type": "code",
   "execution_count": 55,
   "id": "67594a9b",
   "metadata": {},
   "outputs": [
    {
     "name": "stdout",
     "output_type": "stream",
     "text": [
      "Enter password: abc123\n",
      "Enter password: abc123\n",
      "Enter password: \n",
      "Enter password: 0\n",
      "Enter password: secret\n",
      "Access granted!\n"
     ]
    }
   ],
   "source": [
    "password = \"\"\n",
    "while password != \"secret\":\n",
    "    password = input(\"Enter password: \")\n",
    "print(\"Access granted!\")"
   ]
  },
  {
   "cell_type": "code",
   "execution_count": 56,
   "id": "e023056e",
   "metadata": {},
   "outputs": [
    {
     "name": "stdout",
     "output_type": "stream",
     "text": [
      "Type 'quit' to exit: quit\n"
     ]
    }
   ],
   "source": [
    "while True:\n",
    "    user_input = input(\"Type 'quit' to exit: \")\n",
    "    if user_input == \"quit\":\n",
    "        break\n",
    "    print(\"You typed:\", user_input)"
   ]
  },
  {
   "cell_type": "markdown",
   "id": "f947f69f",
   "metadata": {},
   "source": [
    "### break"
   ]
  },
  {
   "cell_type": "code",
   "execution_count": 57,
   "id": "010f37ee",
   "metadata": {},
   "outputs": [
    {
     "name": "stdout",
     "output_type": "stream",
     "text": [
      "0\n",
      "1\n",
      "2\n",
      "3\n",
      "4\n"
     ]
    }
   ],
   "source": [
    "for i in range(10):\n",
    "    if i == 5:\n",
    "        break\n",
    "    print(i)  # Stops at 4"
   ]
  },
  {
   "cell_type": "markdown",
   "id": "51f18091",
   "metadata": {},
   "source": [
    "### continue"
   ]
  },
  {
   "cell_type": "code",
   "execution_count": 58,
   "id": "7eb5153d",
   "metadata": {},
   "outputs": [
    {
     "name": "stdout",
     "output_type": "stream",
     "text": [
      "0\n",
      "1\n",
      "3\n",
      "4\n"
     ]
    }
   ],
   "source": [
    "for i in range(5):\n",
    "    if i == 2:\n",
    "        continue\n",
    "    print(i)  # Skips 2"
   ]
  },
  {
   "cell_type": "markdown",
   "id": "f13c566a",
   "metadata": {},
   "source": [
    "### pass"
   ]
  },
  {
   "cell_type": "code",
   "execution_count": 3,
   "id": "316b5190",
   "metadata": {},
   "outputs": [
    {
     "name": "stdout",
     "output_type": "stream",
     "text": [
      "0\n",
      "1\n",
      "2\n",
      "3\n",
      "4\n"
     ]
    }
   ],
   "source": [
    "for i in range(5):\n",
    "    if i < 3:\n",
    "        pass\n",
    "    print(i)"
   ]
  },
  {
   "cell_type": "markdown",
   "id": "3eeeab27",
   "metadata": {},
   "source": [
    "## Nested Loops"
   ]
  },
  {
   "cell_type": "code",
   "execution_count": 59,
   "id": "0d5dae2a",
   "metadata": {},
   "outputs": [
    {
     "name": "stdout",
     "output_type": "stream",
     "text": [
      "i=0, j=0\n",
      "i=0, j=1\n",
      "i=1, j=0\n",
      "i=1, j=1\n",
      "i=2, j=0\n",
      "i=2, j=1\n"
     ]
    }
   ],
   "source": [
    "for i in range(3):       # Outer loop\n",
    "    for j in range(2):   # Inner loop\n",
    "        print(f\"i={i}, j={j}\")"
   ]
  },
  {
   "cell_type": "markdown",
   "id": "ba65404d",
   "metadata": {},
   "source": [
    "## Sum of numbers in a list"
   ]
  },
  {
   "cell_type": "code",
   "execution_count": 60,
   "id": "e3f68423",
   "metadata": {},
   "outputs": [
    {
     "name": "stdout",
     "output_type": "stream",
     "text": [
      "Sum: 15\n"
     ]
    }
   ],
   "source": [
    "numbers = [1, 2, 3, 4, 5]\n",
    "total = 0\n",
    "for num in numbers:\n",
    "    total += num\n",
    "print(\"Sum:\", total)  # 15"
   ]
  },
  {
   "cell_type": "markdown",
   "id": "8257a17d",
   "metadata": {},
   "source": [
    "## Finding even numbers"
   ]
  },
  {
   "cell_type": "code",
   "execution_count": 61,
   "id": "a78fc377",
   "metadata": {},
   "outputs": [
    {
     "name": "stdout",
     "output_type": "stream",
     "text": [
      "0 is even\n",
      "2 is even\n",
      "4 is even\n",
      "6 is even\n",
      "8 is even\n"
     ]
    }
   ],
   "source": [
    "for i in range(10):\n",
    "    if i % 2 == 0:\n",
    "        print(i, \"is even\")"
   ]
  },
  {
   "cell_type": "markdown",
   "id": "43e37034",
   "metadata": {},
   "source": [
    "## Multiplication table"
   ]
  },
  {
   "cell_type": "code",
   "execution_count": 62,
   "id": "b60df7c5",
   "metadata": {},
   "outputs": [
    {
     "name": "stdout",
     "output_type": "stream",
     "text": [
      "5 x 1 = 5\n",
      "5 x 2 = 10\n",
      "5 x 3 = 15\n",
      "5 x 4 = 20\n",
      "5 x 5 = 25\n",
      "5 x 6 = 30\n",
      "5 x 7 = 35\n",
      "5 x 8 = 40\n",
      "5 x 9 = 45\n",
      "5 x 10 = 50\n"
     ]
    }
   ],
   "source": [
    "n = 5\n",
    "for i in range(1, 11):\n",
    "    print(f\"{n} x {i} = {n * i}\")"
   ]
  },
  {
   "cell_type": "code",
   "execution_count": 4,
   "id": "f5d5f6ad",
   "metadata": {},
   "outputs": [],
   "source": [
    "import pandas as pd\n",
    "import matplotlib.pyplot as plt\n",
    "\n",
    "# Create the data for the table\n",
    "data = {\n",
    "    \"Feature\": [\"Mutable\", \"Ordered\", \"Duplicates\", \"Access\", \"Syntax\", \"Use Case\"],\n",
    "    \"List\": [\"Yes\", \"Yes\", \"Yes\", \"Index ([0])\", \"[1, 2, 3]\", \"Modifiable sequence\"],\n",
    "    \"Tuple\": [\"No\", \"Yes\", \"Yes\", \"Index ([0])\", \"(1, 2, 3)\", \"Fixed sequence\"],\n",
    "    \"Set\": [\"Yes\", \"No\", \"No\", \"No indexing\", \"{1, 2, 3}\", \"Unique items, set ops\"],\n",
    "    \"Dictionary\": [\"Yes\", \"Yes (Python 3.7+)\", \"Keys: No, Values: Yes\", \"Key ([\\\"key\\\"])\", \"{\\\"a\\\": 1, \\\"b\\\": 2}\", \"Key-value mappings\"]\n",
    "}\n",
    "\n",
    "# Create a DataFrame\n",
    "df = pd.DataFrame(data)\n",
    "\n",
    "# Create a figure and axis\n",
    "fig, ax = plt.subplots(figsize=(10, 4))  # Adjust size as needed\n",
    "ax.axis('off')  # Hide axes\n",
    "\n",
    "# Create table\n",
    "table = ax.table(cellText=df.values, colLabels=df.columns, cellLoc='center', loc='center')\n",
    "\n",
    "# Adjust table properties\n",
    "table.auto_set_font_size(False)\n",
    "table.set_fontsize(10)\n",
    "table.scale(1.2, 1.2)  # Adjust scaling for better readability\n",
    "\n",
    "# Save the table as a PNG\n",
    "plt.savefig(\"comparison_table.png\", bbox_inches='tight', dpi=300)\n",
    "plt.close()"
   ]
  },
  {
   "cell_type": "code",
   "execution_count": null,
   "id": "1e2e793f",
   "metadata": {},
   "outputs": [],
   "source": []
  }
 ],
 "metadata": {
  "kernelspec": {
   "display_name": "base",
   "language": "python",
   "name": "python3"
  },
  "language_info": {
   "codemirror_mode": {
    "name": "ipython",
    "version": 3
   },
   "file_extension": ".py",
   "mimetype": "text/x-python",
   "name": "python",
   "nbconvert_exporter": "python",
   "pygments_lexer": "ipython3",
   "version": "3.12.10"
  }
 },
 "nbformat": 4,
 "nbformat_minor": 5
}
