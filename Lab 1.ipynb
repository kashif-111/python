{
 "cells": [
  {
   "cell_type": "code",
   "execution_count": 28,
   "id": "fdfe5bed",
   "metadata": {},
   "outputs": [
    {
     "name": "stdout",
     "output_type": "stream",
     "text": [
      "Hello, World!\n"
     ]
    }
   ],
   "source": [
    "print(\"Hello, World!\")"
   ]
  },
  {
   "cell_type": "code",
   "execution_count": 29,
   "id": "f2e210b1",
   "metadata": {},
   "outputs": [
    {
     "name": "stdout",
     "output_type": "stream",
     "text": [
      "Requirement already satisfied: pykernel in c:\\users\\hp\\miniforge3\\lib\\site-packages (0.1.6)\n",
      "Note: you may need to restart the kernel to use updated packages.\n"
     ]
    }
   ],
   "source": [
    "pip install pykernel"
   ]
  },
  {
   "cell_type": "code",
   "execution_count": 30,
   "id": "9752d180",
   "metadata": {},
   "outputs": [
    {
     "name": "stdout",
     "output_type": "stream",
     "text": [
      "21\n"
     ]
    }
   ],
   "source": [
    "age = 21\n",
    "print(age)"
   ]
  },
  {
   "cell_type": "markdown",
   "id": "dfac5ed1",
   "metadata": {},
   "source": [
    "### **Data Type**"
   ]
  },
  {
   "cell_type": "code",
   "execution_count": 31,
   "id": "70922a14",
   "metadata": {},
   "outputs": [
    {
     "name": "stdout",
     "output_type": "stream",
     "text": [
      "Age: 20\n"
     ]
    }
   ],
   "source": [
    "age = 20\n",
    "print(\"Age:\", age)"
   ]
  },
  {
   "cell_type": "code",
   "execution_count": 32,
   "id": "a9e0201f",
   "metadata": {},
   "outputs": [
    {
     "name": "stdout",
     "output_type": "stream",
     "text": [
      "3.1\n"
     ]
    }
   ],
   "source": [
    "gpa = 3.10\n",
    "print(gpa)"
   ]
  },
  {
   "cell_type": "code",
   "execution_count": 33,
   "id": "6e3c8e3d",
   "metadata": {},
   "outputs": [
    {
     "data": {
      "text/plain": [
       "float"
      ]
     },
     "execution_count": 33,
     "metadata": {},
     "output_type": "execute_result"
    }
   ],
   "source": [
    "type(gpa)"
   ]
  },
  {
   "cell_type": "code",
   "execution_count": 34,
   "id": "22103b06",
   "metadata": {},
   "outputs": [
    {
     "name": "stdout",
     "output_type": "stream",
     "text": [
      "kashif\n"
     ]
    }
   ],
   "source": [
    "name = \"kashif\"\n",
    "print(name)"
   ]
  },
  {
   "cell_type": "code",
   "execution_count": 35,
   "id": "68b2f663",
   "metadata": {},
   "outputs": [
    {
     "name": "stdout",
     "output_type": "stream",
     "text": [
      "<class 'str'>\n"
     ]
    }
   ],
   "source": [
    "name = \"Alice\"\n",
    "print(type(name))"
   ]
  },
  {
   "cell_type": "markdown",
   "id": "83bfa8e1",
   "metadata": {},
   "source": [
    "### **Getting User's Input**"
   ]
  },
  {
   "cell_type": "code",
   "execution_count": 36,
   "id": "72f4856c",
   "metadata": {},
   "outputs": [
    {
     "name": "stdout",
     "output_type": "stream",
     "text": [
      "python\n"
     ]
    }
   ],
   "source": [
    "f_name = input(\"Please enter your good name: \")\n",
    "print(f_name)"
   ]
  },
  {
   "cell_type": "code",
   "execution_count": 37,
   "id": "12b0727d",
   "metadata": {},
   "outputs": [
    {
     "data": {
      "text/plain": [
       "str"
      ]
     },
     "execution_count": 37,
     "metadata": {},
     "output_type": "execute_result"
    }
   ],
   "source": [
    "type(f_name)"
   ]
  },
  {
   "cell_type": "markdown",
   "id": "fee34cfb",
   "metadata": {},
   "source": [
    "### **Converting Input to Integer**"
   ]
  },
  {
   "cell_type": "code",
   "execution_count": 38,
   "id": "a75c16a6",
   "metadata": {},
   "outputs": [
    {
     "ename": "ValueError",
     "evalue": "invalid literal for int() with base 10: ''",
     "output_type": "error",
     "traceback": [
      "\u001b[31m---------------------------------------------------------------------------\u001b[39m",
      "\u001b[31mValueError\u001b[39m                                Traceback (most recent call last)",
      "\u001b[36mCell\u001b[39m\u001b[36m \u001b[39m\u001b[32mIn[38]\u001b[39m\u001b[32m, line 1\u001b[39m\n\u001b[32m----> \u001b[39m\u001b[32m1\u001b[39m roll_no = \u001b[38;5;28;43mint\u001b[39;49m\u001b[43m(\u001b[49m\u001b[38;5;28;43minput\u001b[39;49m\u001b[43m(\u001b[49m\u001b[33;43m\"\u001b[39;49m\u001b[33;43mPlease enter your roll No: \u001b[39;49m\u001b[33;43m\"\u001b[39;49m\u001b[43m)\u001b[49m\u001b[43m)\u001b[49m\n\u001b[32m      2\u001b[39m \u001b[38;5;28mprint\u001b[39m\n",
      "\u001b[31mValueError\u001b[39m: invalid literal for int() with base 10: ''"
     ]
    }
   ],
   "source": [
    "roll_no = int(input(\"Please enter your roll No: \"))\n",
    "print"
   ]
  },
  {
   "cell_type": "code",
   "execution_count": null,
   "id": "f2b61656",
   "metadata": {},
   "outputs": [],
   "source": [
    "type(roll_no)"
   ]
  },
  {
   "cell_type": "markdown",
   "id": "1c8e62e8",
   "metadata": {},
   "source": [
    "### **Converting Float to Integer**"
   ]
  },
  {
   "cell_type": "code",
   "execution_count": null,
   "id": "d735241e",
   "metadata": {},
   "outputs": [
    {
     "ename": "ValueError",
     "evalue": "could not convert string to float: ''",
     "output_type": "error",
     "traceback": [
      "\u001b[31m---------------------------------------------------------------------------\u001b[39m",
      "\u001b[31mValueError\u001b[39m                                Traceback (most recent call last)",
      "\u001b[36mCell\u001b[39m\u001b[36m \u001b[39m\u001b[32mIn[1]\u001b[39m\u001b[32m, line 1\u001b[39m\n\u001b[32m----> \u001b[39m\u001b[32m1\u001b[39m cgpa = \u001b[38;5;28;43mfloat\u001b[39;49m\u001b[43m(\u001b[49m\u001b[38;5;28;43minput\u001b[39;49m\u001b[43m(\u001b[49m\u001b[33;43m\"\u001b[39;49m\u001b[33;43mGPA: \u001b[39;49m\u001b[33;43m\"\u001b[39;49m\u001b[43m)\u001b[49m\u001b[43m)\u001b[49m\n\u001b[32m      2\u001b[39m \u001b[38;5;28mtype\u001b[39m(cgpa)\n",
      "\u001b[31mValueError\u001b[39m: could not convert string to float: ''"
     ]
    }
   ],
   "source": [
    "cgpa = float(input(\"GPA: \"))\n",
    "type(cgpa)"
   ]
  },
  {
   "cell_type": "code",
   "execution_count": null,
   "id": "daa8100d",
   "metadata": {},
   "outputs": [
    {
     "name": "stdout",
     "output_type": "stream",
     "text": [
      "(3+4j)\n",
      "<class 'complex'>\n"
     ]
    }
   ],
   "source": [
    "z = 3 + 4j\n",
    "print(z)\n",
    "print(type(z))"
   ]
  },
  {
   "cell_type": "code",
   "execution_count": null,
   "id": "bbb2cda1",
   "metadata": {},
   "outputs": [],
   "source": [
    "a = 5\n",
    "b = 20"
   ]
  },
  {
   "cell_type": "markdown",
   "id": "5d62e029",
   "metadata": {},
   "source": [
    "### **Sum**"
   ]
  },
  {
   "cell_type": "code",
   "execution_count": null,
   "id": "a850fc51",
   "metadata": {},
   "outputs": [],
   "source": [
    "sum = a + b\n",
    "print(sum)"
   ]
  },
  {
   "cell_type": "markdown",
   "id": "4d26c399",
   "metadata": {},
   "source": [
    "### **substract**"
   ]
  },
  {
   "cell_type": "code",
   "execution_count": null,
   "id": "2f0df1f4",
   "metadata": {},
   "outputs": [],
   "source": [
    "substract = a - b\n",
    "print(substract)"
   ]
  },
  {
   "cell_type": "markdown",
   "id": "1904b710",
   "metadata": {},
   "source": [
    "### **Mupltiplication**"
   ]
  },
  {
   "cell_type": "code",
   "execution_count": null,
   "id": "2f21de61",
   "metadata": {},
   "outputs": [],
   "source": [
    "mul = a * b\n",
    "print(mul)"
   ]
  },
  {
   "cell_type": "markdown",
   "id": "856b0031",
   "metadata": {},
   "source": [
    "### **Division**"
   ]
  },
  {
   "cell_type": "code",
   "execution_count": null,
   "id": "77df45ea",
   "metadata": {},
   "outputs": [],
   "source": [
    "divide = a/b\n",
    "print(divide)"
   ]
  },
  {
   "cell_type": "code",
   "execution_count": null,
   "id": "32c9156b",
   "metadata": {},
   "outputs": [],
   "source": [
    "num1 = 10\n",
    "num2 = 5\n",
    "\n",
    "print(f\"Addition: {num1 + num2}\")\n",
    "print(f\"Subtraction: {num1 - num2}\")\n",
    "print(f\"Multiplication: {num1 * num2}\")\n",
    "print(f\"Division: {num1 / num2}\")"
   ]
  },
  {
   "cell_type": "markdown",
   "id": "c9fe2d54",
   "metadata": {},
   "source": [
    "### **Changing Data Types Explicitly & Implicitly**"
   ]
  },
  {
   "cell_type": "markdown",
   "id": "09078a60",
   "metadata": {},
   "source": [
    "### **1. Implicit Conversion (Automatic)**"
   ]
  },
  {
   "cell_type": "code",
   "execution_count": null,
   "id": "b043fdd3",
   "metadata": {},
   "outputs": [],
   "source": [
    "num_int = 2    # int  \n",
    "num_float = 1.5 # float  \n",
    "result = num_int + num_float  # Result is float (6.5)  \n",
    "print(f\"Result: {result} (Type: {type(result)})\")"
   ]
  },
  {
   "cell_type": "markdown",
   "id": "83f24155",
   "metadata": {},
   "source": [
    "### **2. Explicit Conversion (Manual)**"
   ]
  },
  {
   "cell_type": "code",
   "execution_count": null,
   "id": "cbf85636",
   "metadata": {},
   "outputs": [
    {
     "name": "stdout",
     "output_type": "stream",
     "text": [
      "<class 'int'>\n"
     ]
    }
   ],
   "source": [
    "# Convert string to integer\n",
    "a = '10' \n",
    "a = int(a)\n",
    "print(type(a)) # int"
   ]
  },
  {
   "cell_type": "code",
   "execution_count": null,
   "id": "79f6a75a",
   "metadata": {},
   "outputs": [],
   "source": [
    "# Convert string to float\n",
    "a = '10.5'\n",
    "a = float(a)\n",
    "print(type(a)) # float"
   ]
  },
  {
   "cell_type": "code",
   "execution_count": null,
   "id": "8dd1e5da",
   "metadata": {},
   "outputs": [],
   "source": [
    "# Convert string to boolean\n",
    "a = 'True'\n",
    "a = bool(a)\n",
    "print(type(a)) # bool"
   ]
  },
  {
   "cell_type": "code",
   "execution_count": null,
   "id": "d6acd11a",
   "metadata": {},
   "outputs": [],
   "source": [
    "# Convert string to complex\n",
    "a = '3+4j'\n",
    "a = complex(a)\n",
    "print(type(a)) # complex"
   ]
  },
  {
   "cell_type": "code",
   "execution_count": null,
   "id": "cdb14a71",
   "metadata": {},
   "outputs": [],
   "source": [
    "# Convert integer to float\n",
    "a = 10\n",
    "a = float(a)\n",
    "print(type(a)) # float "
   ]
  },
  {
   "cell_type": "code",
   "execution_count": null,
   "id": "e748b5e0",
   "metadata": {},
   "outputs": [],
   "source": [
    "# Convert integer to string\n",
    "a = 10\n",
    "a = str(a)\n",
    "print(type(a)) # str"
   ]
  },
  {
   "cell_type": "code",
   "execution_count": null,
   "id": "61ee526a",
   "metadata": {},
   "outputs": [],
   "source": [
    "# Convert integer to complex\n",
    "a = 10\n",
    "a = complex(a)\n",
    "print(type(a)) # complex"
   ]
  },
  {
   "cell_type": "code",
   "execution_count": null,
   "id": "1f7e16ff",
   "metadata": {},
   "outputs": [],
   "source": [
    "# Convert integer to boolean\n",
    "a = 10\n",
    "a = bool(a)\n",
    "print(type(a)) # bool"
   ]
  },
  {
   "cell_type": "markdown",
   "id": "1218000b",
   "metadata": {},
   "source": [
    "### **3. Common Use Cases**"
   ]
  },
  {
   "cell_type": "code",
   "execution_count": null,
   "id": "c9417bbf",
   "metadata": {},
   "outputs": [],
   "source": [
    "age = input(\"Enter your age: \")\n",
    "print(type(age))  # This will be str"
   ]
  },
  {
   "cell_type": "code",
   "execution_count": null,
   "metadata": {},
   "outputs": [],
   "source": [
    "age = int(input(\"Enter age: \"))  # Convert input to integer\n",
    "print(type(age))  # Check type"
   ]
  },
  {
   "cell_type": "markdown",
   "id": "e3619fca",
   "metadata": {},
   "source": [
    "### **String Formatting**"
   ]
  },
  {
   "cell_type": "code",
   "execution_count": null,
   "id": "7380d7cc",
   "metadata": {},
   "outputs": [],
   "source": [
    "print(\"Value: \" + str(20) "
   ]
  },
  {
   "cell_type": "markdown",
   "id": "2b9cccc9",
   "metadata": {},
   "source": [
    "## **String**"
   ]
  },
  {
   "cell_type": "markdown",
   "id": "ff83c180",
   "metadata": {},
   "source": [
    "### **Concatenated string**"
   ]
  },
  {
   "cell_type": "code",
   "execution_count": null,
   "id": "3fd51773",
   "metadata": {},
   "outputs": [
    {
     "ename": "SyntaxError",
     "evalue": "unterminated string literal (detected at line 1) (1964917153.py, line 1)",
     "output_type": "error",
     "traceback": [
      "  \u001b[36mCell\u001b[39m\u001b[36m \u001b[39m\u001b[32mIn[2]\u001b[39m\u001b[32m, line 1\u001b[39m\n\u001b[31m    \u001b[39m\u001b[31mstr1 = \"I am student at AWKUM\u001b[39m\n           ^\n\u001b[31mSyntaxError\u001b[39m\u001b[31m:\u001b[39m unterminated string literal (detected at line 1)\n"
     ]
    }
   ],
   "source": [
    "str1 = \"I am student at AWKUM\n",
    "str2 = \"Mardan\"\n",
    "\n",
    "full = str1 + \" \" + str2 + \".\"\n",
    "print(full)"
   ]
  },
  {
   "cell_type": "markdown",
   "id": "970af1b9",
   "metadata": {},
   "source": [
    "### **Upper Case**"
   ]
  },
  {
   "cell_type": "code",
   "execution_count": null,
   "id": "cf5eff99",
   "metadata": {},
   "outputs": [],
   "source": [
    "full.upper()"
   ]
  },
  {
   "cell_type": "markdown",
   "id": "aead6f49",
   "metadata": {},
   "source": [
    "### **Lower Case**"
   ]
  },
  {
   "cell_type": "code",
   "execution_count": null,
   "id": "62a2e3dc",
   "metadata": {},
   "outputs": [],
   "source": [
    "full.lower()"
   ]
  },
  {
   "cell_type": "markdown",
   "id": "84d09731",
   "metadata": {},
   "source": [
    "### **Capitalize**"
   ]
  },
  {
   "cell_type": "code",
   "execution_count": null,
   "id": "6e8aa2e9",
   "metadata": {},
   "outputs": [],
   "source": [
    "full.capitalize()"
   ]
  },
  {
   "cell_type": "markdown",
   "id": "af43b6f9",
   "metadata": {},
   "source": [
    "### **Capital Each Word**"
   ]
  },
  {
   "cell_type": "code",
   "execution_count": null,
   "id": "a13f068c",
   "metadata": {},
   "outputs": [],
   "source": [
    "full.title()"
   ]
  },
  {
   "cell_type": "markdown",
   "id": "f581db5e",
   "metadata": {},
   "source": [
    "### **Strip**"
   ]
  },
  {
   "cell_type": "code",
   "execution_count": null,
   "id": "c2d6a05b",
   "metadata": {},
   "outputs": [],
   "source": [
    "full.strip()"
   ]
  },
  {
   "cell_type": "markdown",
   "id": "f50d76ce",
   "metadata": {},
   "source": [
    "### **Replace**"
   ]
  },
  {
   "cell_type": "code",
   "execution_count": null,
   "id": "54e50712",
   "metadata": {},
   "outputs": [],
   "source": [
    "full.replace(\"Mardan\", \"Peshawar\")"
   ]
  },
  {
   "cell_type": "markdown",
   "id": "f727450c",
   "metadata": {},
   "source": [
    "### **Find**"
   ]
  },
  {
   "cell_type": "code",
   "execution_count": null,
   "id": "116a1a62",
   "metadata": {},
   "outputs": [],
   "source": [
    "full.find('Peshawar')"
   ]
  },
  {
   "cell_type": "markdown",
   "id": "9a2d3193",
   "metadata": {},
   "source": [
    "### **Indexing**"
   ]
  },
  {
   "cell_type": "code",
   "execution_count": null,
   "id": "a114c505",
   "metadata": {},
   "outputs": [],
   "source": [
    "full[1]"
   ]
  },
  {
   "cell_type": "code",
   "execution_count": null,
   "id": "5a71391a",
   "metadata": {},
   "outputs": [],
   "source": [
    "full[0]"
   ]
  },
  {
   "cell_type": "code",
   "execution_count": null,
   "id": "5cbcbe8f",
   "metadata": {},
   "outputs": [],
   "source": [
    "full[:20]"
   ]
  },
  {
   "cell_type": "code",
   "execution_count": null,
   "id": "0f21da1f",
   "metadata": {},
   "outputs": [],
   "source": [
    "full[2:-1]"
   ]
  },
  {
   "cell_type": "markdown",
   "id": "ada47a8e",
   "metadata": {},
   "source": [
    "## Bool"
   ]
  },
  {
   "cell_type": "code",
   "execution_count": null,
   "id": "4399be79",
   "metadata": {},
   "outputs": [],
   "source": [
    "is_sunny = True\n",
    "\n",
    "if is_sunny:\n",
    "    print(\"It is Sunny\")\n",
    "else:\n",
    "    print(\"It is Raining\")"
   ]
  },
  {
   "cell_type": "code",
   "execution_count": null,
   "id": "6520fae9",
   "metadata": {},
   "outputs": [],
   "source": [
    "is_raining = True\n",
    "\n",
    "if is_sunny and is_raining:\n",
    "    print(\"It is Sunny\")\n",
    "    \n",
    "if is_sunny or is_raining:\n",
    "    print(\"It is raining\")"
   ]
  },
  {
   "cell_type": "markdown",
   "id": "08531970",
   "metadata": {},
   "source": [
    "## List"
   ]
  },
  {
   "cell_type": "markdown",
   "id": "dd041c0d",
   "metadata": {},
   "source": [
    "A list in Python is an ordered, mutable (changeable) collection of items. This means:"
   ]
  },
  {
   "cell_type": "markdown",
   "id": "286dd33d",
   "metadata": {},
   "source": [
    "Ordered: The items have a defined order, and that order will not change. You can access items by their position (index).\n",
    "\n",
    "Mutable: You can change, add, or remove items after the list has been created.\n",
    "\n",
    "Collection: A list can hold items of different data types (integers, floats, strings, even other lists!)."
   ]
  },
  {
   "cell_type": "markdown",
   "id": "d8df31ac",
   "metadata": {},
   "source": [
    "# 1. Creating Lists"
   ]
  },
  {
   "cell_type": "code",
   "execution_count": null,
   "id": "e5ac4f8e",
   "metadata": {},
   "outputs": [],
   "source": [
    "# Empty list\n",
    "my_list = []\n",
    "print(my_list) # Output: []"
   ]
  },
  {
   "cell_type": "code",
   "execution_count": null,
   "id": "d805d326",
   "metadata": {},
   "outputs": [],
   "source": [
    "# List of numbers\n",
    "numbers = [1, 2, 3, 4, 5]\n",
    "print(numbers) # Output: [1, 2, 3, 4, 5]"
   ]
  },
  {
   "cell_type": "code",
   "execution_count": null,
   "id": "3cc76dd6",
   "metadata": {},
   "outputs": [],
   "source": [
    "# List of strings\n",
    "fruits = [\"apple\", \"banana\", \"cherry\"]\n",
    "print(fruits) # Output: ['apple', 'banana', 'cherry']"
   ]
  },
  {
   "cell_type": "code",
   "execution_count": null,
   "id": "d0380ef1",
   "metadata": {},
   "outputs": [],
   "source": [
    "# List with mixed data types\n",
    "mixed_list = [1, \"hello\", 3.14, True]\n",
    "print(mixed_list) # Output: [1, 'hello', 3.14, True]"
   ]
  },
  {
   "cell_type": "code",
   "execution_count": null,
   "id": "18ac0203",
   "metadata": {},
   "outputs": [],
   "source": [
    "# Nested list (list of lists)\n",
    "matrix = [[1, 2, 3], [4, 5, 6], [7, 8, 9]]\n",
    "print(matrix) # Output: [[1, 2, 3], [4, 5, 6], [7, 8, 9]]"
   ]
  },
  {
   "cell_type": "markdown",
   "id": "a542a1c1",
   "metadata": {},
   "source": [
    "# 2. Accessing List Elements (Indexing)"
   ]
  },
  {
   "cell_type": "code",
   "execution_count": null,
   "id": "43432767",
   "metadata": {},
   "outputs": [],
   "source": [
    "fruits = [\"apple\", \"banana\", \"cherry\", \"date\"]\n",
    "\n",
    "print(fruits[0])   # Output: apple (first element)\n",
    "print(fruits[2])   # Output: cherry (third element)\n",
    "print(fruits[-1])  # Output: date (last element)\n",
    "print(fruits[-3])  # Output: banana (third to last element)"
   ]
  },
  {
   "cell_type": "code",
   "execution_count": null,
   "id": "18aee399",
   "metadata": {},
   "outputs": [],
   "source": [
    "# Accessing elements in a nested list\n",
    "print(matrix[0][1]) # Output: 2 (element at row 0, column 1)"
   ]
  },
  {
   "cell_type": "markdown",
   "id": "383ab24a",
   "metadata": {},
   "source": [
    "# 3. Slicing Lists\n",
    "### List Slicing  \n",
    "Extracts a sub-list from a list using the syntax:  \n",
    "`list[start:end:step]`  \n",
    "\n",
    "#### Parameters:  \n",
    "- **`start`** (optional)  \n",
    "  - Starting index (*inclusive*).  \n",
    "  - Default: `0` (beginning of the list).  \n",
    "\n",
    "- **`end`** (optional)  \n",
    "  - Ending index (*exclusive*).  \n",
    "  - Default: `len(list)` (end of the list).  \n",
    "\n",
    "- **`step`** (optional)  \n",
    "  - Interval between items.  \n",
    "  - Default: `1` (every item).  "
   ]
  },
  {
   "cell_type": "code",
   "execution_count": null,
   "id": "6c20b418",
   "metadata": {},
   "outputs": [],
   "source": [
    "numbers = [0, 1, 2, 3, 4, 5, 6, 7, 8, 9]\n",
    "\n",
    "print(numbers[2:7])    # Output: [2, 3, 4, 5, 6] (elements from index 2 up to, but not including, index 7)\n",
    "print(numbers[:5])     # Output: [0, 1, 2, 3, 4] (elements from the beginning up to index 5)\n",
    "print(numbers[5:])     # Output: [5, 6, 7, 8, 9] (elements from index 5 to the end)\n",
    "print(numbers[:])      # Output: [0, 1, 2, 3, 4, 5, 6, 7, 8, 9] (a copy of the entire list)\n",
    "print(numbers[::2])    # Output: [0, 2, 4, 6, 8] (every second element)\n",
    "print(numbers[::-1])   # Output: [9, 8, 7, 6, 5, 4, 3, 2, 1, 0] (reverse the list)"
   ]
  },
  {
   "cell_type": "markdown",
   "id": "ecd5e56f",
   "metadata": {},
   "source": [
    "# 4. Modifying Lists"
   ]
  },
  {
   "cell_type": "markdown",
   "id": "fb1c4e8f",
   "metadata": {},
   "source": [
    "## Changing Elements"
   ]
  },
  {
   "cell_type": "code",
   "execution_count": null,
   "id": "df8d155a",
   "metadata": {},
   "outputs": [],
   "source": [
    "fruits = [\"apple\", \"banana\", \"cherry\"]\n",
    "fruits[1] = \"orange\" # Change 'banana' to 'orange'\n",
    "print(fruits) # Output: ['apple', 'orange', 'cherry']"
   ]
  },
  {
   "cell_type": "markdown",
   "id": "5fe4c107",
   "metadata": {},
   "source": [
    "## Adding Elements"
   ]
  },
  {
   "cell_type": "code",
   "execution_count": null,
   "id": "91640530",
   "metadata": {},
   "outputs": [
    {
     "name": "stdout",
     "output_type": "stream",
     "text": [
      "[1, 2, 3, 4]\n"
     ]
    }
   ],
   "source": [
    "my_list = [1, 2, 3]\n",
    "my_list.append(4)\n",
    "print(my_list) # Output: [1, 2, 3, 4]"
   ]
  },
  {
   "cell_type": "code",
   "execution_count": null,
   "id": "5640e314",
   "metadata": {},
   "outputs": [],
   "source": [
    "my_list = [1, 2, 3]\n",
    "my_list.insert(1, 99) # Insert 99 at index 1\n",
    "print(my_list) # Output: [1, 99, 2, 3]"
   ]
  },
  {
   "cell_type": "code",
   "execution_count": null,
   "id": "f2df7dbe",
   "metadata": {},
   "outputs": [],
   "source": [
    "list1 = [1, 2, 3]\n",
    "list2 = [4, 5]\n",
    "list1.extend(list2)\n",
    "print(list1) # Output: [1, 2, 3, 4, 5]"
   ]
  },
  {
   "cell_type": "code",
   "execution_count": null,
   "id": "ffebbaf4",
   "metadata": {},
   "outputs": [],
   "source": [
    "# You can also use the `+` operator for concatenation, but it creates a new list\n",
    "list3 = [1, 2]\n",
    "list4 = [3, 4]\n",
    "combined_list = list3 + list4\n",
    "print(combined_list) # Output: [1, 2, 3, 4]"
   ]
  },
  {
   "cell_type": "markdown",
   "id": "f4d407dc",
   "metadata": {},
   "source": [
    "## Removing Elements"
   ]
  },
  {
   "cell_type": "code",
   "execution_count": null,
   "id": "7d97d2ac",
   "metadata": {},
   "outputs": [],
   "source": [
    "my_list = [1, 2, 3, 2, 4]\n",
    "my_list.remove(2) # Removes the first '2'\n",
    "print(my_list) # Output: [1, 3, 2, 4]"
   ]
  },
  {
   "cell_type": "code",
   "execution_count": null,
   "id": "cc6c9aac",
   "metadata": {},
   "outputs": [],
   "source": [
    "my_list = [10, 20, 30, 40]\n",
    "removed_item = my_list.pop(1) # Removes element at index 1 (20)\n",
    "print(removed_item) # Output: 20\n",
    "print(my_list)      # Output: [10, 30, 40]\n",
    "\n",
    "last_item = my_list.pop() # Removes the last element (40)\n",
    "print(last_item)  # Output: 40\n",
    "print(my_list)    # Output: [10, 30]"
   ]
  },
  {
   "cell_type": "code",
   "execution_count": null,
   "id": "33cb1123",
   "metadata": {},
   "outputs": [],
   "source": [
    "my_list = [1, 2, 3, 4, 5]\n",
    "del my_list[2] # Removes element at index 2 (3)\n",
    "print(my_list) # Output: [1, 2, 4, 5]\n",
    "\n",
    "del my_list[1:3] # Removes elements from index 1 up to (but not including) index 3\n",
    "print(my_list) # Output: [1, 5]"
   ]
  },
  {
   "cell_type": "code",
   "execution_count": null,
   "id": "c9b980b5",
   "metadata": {},
   "outputs": [],
   "source": [
    "my_list = [1, 2, 3]\n",
    "my_list.clear()\n",
    "print(my_list) # Output: []"
   ]
  },
  {
   "cell_type": "code",
   "execution_count": null,
   "id": "98d8071d",
   "metadata": {},
   "outputs": [],
   "source": [
    "my_list = [1, 2, 3, 4, 5]\n",
    "print(len(my_list)) # Output: 5"
   ]
  },
  {
   "cell_type": "code",
   "execution_count": null,
   "id": "7751c6a8",
   "metadata": {},
   "outputs": [],
   "source": [
    "my_list = [\"a\", \"b\", \"c\", \"b\"]\n",
    "print(my_list.index(\"b\")) # Output: 1\n",
    "print(my_list.index(\"b\", 2)) # Output: 3 (starts searching from index 2)"
   ]
  },
  {
   "cell_type": "code",
   "execution_count": null,
   "id": "d5e36da8",
   "metadata": {},
   "outputs": [],
   "source": [
    "my_list = [1, 2, 2, 3, 2, 4]\n",
    "print(my_list.count(2)) # Output: 3"
   ]
  },
  {
   "cell_type": "code",
   "execution_count": null,
   "id": "b0f6f3ed",
   "metadata": {},
   "outputs": [],
   "source": [
    "numbers = [3, 1, 4, 1, 5, 9, 2]\n",
    "numbers.sort()\n",
    "print(numbers) # Output: [1, 1, 2, 3, 4, 5, 9]\n",
    "\n",
    "words = [\"banana\", \"apple\", \"cherry\"]\n",
    "words.sort(reverse=True)\n",
    "print(words) # Output: ['cherry', 'banana', 'apple']"
   ]
  },
  {
   "cell_type": "code",
   "execution_count": null,
   "id": "d0a44b84",
   "metadata": {},
   "outputs": [],
   "source": [
    "my_list = [1, 2, 3, 4, 5]\n",
    "my_list.reverse()\n",
    "print(my_list) # Output: [5, 4, 3, 2, 1]"
   ]
  },
  {
   "cell_type": "markdown",
   "id": "3021c8d4",
   "metadata": {},
   "source": [
    "## Tuple "
   ]
  },
  {
   "cell_type": "markdown",
   "id": "b31b5819",
   "metadata": {},
   "source": [
    "A tuple in Python is similar to a list in many ways, but with one crucial difference: tuples are immutable.  \n",
    "    - **Ordered** ✓  \n",
    "      Like lists, tuple items have a defined order, and that order will not change. You can access items by their position (index).  \n",
    "    - **Immutable** ✖  \n",
    "      Once a tuple is created, you cannot change, add, or remove its items. This is the key distinction from lists.  \n",
    "    - **Heterogeneous Collection** ⊛  \n",
    "      A tuple can hold items of different data types (integers, floats, strings, even other lists or tuples)."
   ]
  },
  {
   "cell_type": "code",
   "execution_count": null,
   "id": "b9bacb38",
   "metadata": {},
   "outputs": [],
   "source": [
    "# Empty tuple\n",
    "my_tuple = ()\n",
    "print(my_tuple) # Output: ()"
   ]
  },
  {
   "cell_type": "code",
   "execution_count": null,
   "id": "441cae25",
   "metadata": {},
   "outputs": [],
   "source": [
    "# Tuple of numbers\n",
    "numbers_tuple = (1, 2, 3, 4, 5)\n",
    "print(numbers_tuple) # Output: (1, 2, 3, 4, 5)"
   ]
  },
  {
   "cell_type": "code",
   "execution_count": null,
   "id": "c86fd6d4",
   "metadata": {},
   "outputs": [],
   "source": [
    "# Tuple of strings\n",
    "fruits_tuple = (\"apple\", \"banana\", \"cherry\")\n",
    "print(fruits_tuple) # Output: ('apple', 'banana', 'cherry')"
   ]
  },
  {
   "cell_type": "code",
   "execution_count": null,
   "id": "278b5d1b",
   "metadata": {},
   "outputs": [],
   "source": [
    "# Tuple with mixed data types\n",
    "mixed_tuple = (1, \"hello\", 3.14, False)\n",
    "print(mixed_tuple) # Output: (1, 'hello', 3.14, False)"
   ]
  },
  {
   "cell_type": "code",
   "execution_count": null,
   "id": "2d0bc98b",
   "metadata": {},
   "outputs": [],
   "source": [
    "# Nested tuple (tuple of tuples)\n",
    "coordinates = ((1, 2), (3, 4), (5, 6))\n",
    "print(coordinates) # Output: ((1, 2), (3, 4), (5, 6))"
   ]
  },
  {
   "cell_type": "code",
   "execution_count": null,
   "id": "1bf368c8",
   "metadata": {},
   "outputs": [],
   "source": [
    "fruits_tuple = (\"apple\", \"banana\", \"cherry\", \"date\")\n",
    "\n",
    "print(fruits_tuple[0])   # Output: apple (first element)\n",
    "print(fruits_tuple[2])   # Output: cherry (third element)\n",
    "print(fruits_tuple[-1])  # Output: date (last element)"
   ]
  },
  {
   "cell_type": "code",
   "execution_count": null,
   "id": "7209b515",
   "metadata": {},
   "outputs": [],
   "source": [
    "# Accessing elements in a nested tuple\n",
    "nested_tuple = ((10, 20), (30, 40))\n",
    "print(nested_tuple[0][1]) # Output: 20 (element at tuple 0, index 1)"
   ]
  },
  {
   "cell_type": "code",
   "execution_count": null,
   "id": "118b6cae",
   "metadata": {},
   "outputs": [],
   "source": [
    "numbers_tuple = (0, 1, 2, 3, 4, 5, 6, 7, 8, 9)\n",
    "\n",
    "print(numbers_tuple[2:7])    # Output: (2, 3, 4, 5, 6)\n",
    "print(numbers_tuple[:5])     # Output: (0, 1, 2, 3, 4)\n",
    "print(numbers_tuple[5:])     # Output: (5, 6, 7, 8, 9)\n",
    "print(numbers_tuple[:])      # Output: (0, 1, 2, 3, 4, 5, 6, 7, 8, 9) (a copy of the entire tuple)\n",
    "print(numbers_tuple[::2])    # Output: (0, 2, 4, 6, 8)\n",
    "print(numbers_tuple[::-1])   # Output: (9, 8, 7, 6, 5, 4, 3, 2, 1, 0) (reverse the tuple)"
   ]
  },
  {
   "cell_type": "code",
   "execution_count": null,
   "id": "15467e11",
   "metadata": {},
   "outputs": [],
   "source": [
    "my_tuple = (1, 2, 3)\n",
    "\n",
    "# my_tuple[0] = 10  # TypeError: 'tuple' object does not support item assignment\n",
    "# my_tuple.append(4) # AttributeError: 'tuple' object has no attribute 'append'\n",
    "# my_tuple.remove(2) # AttributeError: 'tuple' object has no attribute 'remove'\n",
    "# del my_tuple[1]    # TypeError: 'tuple' object doesn't support item deletion"
   ]
  },
  {
   "cell_type": "code",
   "execution_count": null,
   "id": "1b791584",
   "metadata": {},
   "outputs": [],
   "source": [
    "tuple1 = (1, 2)\n",
    "tuple2 = (3, 4)\n",
    "combined_tuple = tuple1 + tuple2\n",
    "print(combined_tuple) # Output: (1, 2, 3, 4)"
   ]
  },
  {
   "cell_type": "code",
   "execution_count": null,
   "id": "ef987fc0",
   "metadata": {},
   "outputs": [],
   "source": [
    "repeated_tuple = (\"a\",) * 3\n",
    "print(repeated_tuple) # Output: ('a', 'a', 'a')"
   ]
  },
  {
   "cell_type": "code",
   "execution_count": null,
   "id": "8b2b125c",
   "metadata": {},
   "outputs": [],
   "source": [
    "my_tuple = (10, 20, 30)\n",
    "print(len(my_tuple)) # Output: 3"
   ]
  },
  {
   "cell_type": "code",
   "execution_count": null,
   "id": "d9c057a2",
   "metadata": {},
   "outputs": [],
   "source": [
    "my_tuple = (1, 2, 2, 3, 2)\n",
    "print(my_tuple.count(2)) # Output: 3"
   ]
  },
  {
   "cell_type": "code",
   "execution_count": null,
   "id": "b51ae785",
   "metadata": {},
   "outputs": [],
   "source": [
    "my_tuple = (\"a\", \"b\", \"c\")\n",
    "print(my_tuple.index(\"b\")) # Output: 1"
   ]
  },
  {
   "cell_type": "code",
   "execution_count": null,
   "id": "4f578d01",
   "metadata": {},
   "outputs": [],
   "source": [
    "my_tuple = (\"red\", \"green\", \"blue\")\n",
    "print(\"green\" in my_tuple)    # Output: True\n",
    "print(\"yellow\" not in my_tuple) # Output: True"
   ]
  },
  {
   "cell_type": "markdown",
   "id": "39439918",
   "metadata": {},
   "source": [
    "## Dictionary"
   ]
  },
  {
   "cell_type": "markdown",
   "id": "52c2e532",
   "metadata": {},
   "source": [
    "### Dictionary (`dict`)  \n",
    "An **unordered**, **mutable** collection of key-value pairs, optimized for fast lookups by unique keys.  \n",
    "\n",
    "#### Key Properties:  \n",
    "- **Unordered** (Python 3.7+):  \n",
    "  - Items have no fixed order (though insertion order is preserved in Python 3.7+).  \n",
    "  - No indexing by position—only by key.  \n",
    "\n",
    "- **Mutable**:  \n",
    "  - Can add, modify, or delete key-value pairs after creation.  \n",
    "\n",
    "- **Keys are Unique**:  \n",
    "  - Duplicate keys are not allowed (new values overwrite old ones).  \n",
    "\n",
    "- **Heterogeneous**:  \n",
    "  - Keys/values can be of any type (but keys must be *hashable*, e.g., strings, numbers, tuples).  "
   ]
  },
  {
   "cell_type": "markdown",
   "id": "18386e1e",
   "metadata": {},
   "source": [
    "## 1. Creating Dictionaries"
   ]
  },
  {
   "cell_type": "code",
   "execution_count": null,
   "id": "bbd15ba8",
   "metadata": {},
   "outputs": [],
   "source": [
    "# Empty dictionary\n",
    "my_dict = {}\n",
    "print(my_dict) # Output: {}"
   ]
  },
  {
   "cell_type": "code",
   "execution_count": null,
   "id": "7ad2761d",
   "metadata": {},
   "outputs": [
    {
     "name": "stdout",
     "output_type": "stream",
     "text": [
      "{'name': 'Alice', 'age': 30, 'city': 'New York'}\n"
     ]
    }
   ],
   "source": [
    "# Dictionary with string keys and various values\n",
    "person = {\n",
    "    \"name\": \"Alice\",\n",
    "    \"age\": 30,\n",
    "    \"city\": \"New York\"\n",
    "}\n",
    "print(person) # Output: {'name': 'Alice', 'age': 30, 'city': 'New York'}"
   ]
  },
  {
   "cell_type": "code",
   "execution_count": null,
   "id": "bb426e94",
   "metadata": {},
   "outputs": [],
   "source": [
    "# Dictionary with integer keys\n",
    "grades = {\n",
    "    101: \"A\",\n",
    "    102: \"B+\",\n",
    "    103: \"C\"\n",
    "}\n",
    "print(grades) # Output: {101: 'A', 102: 'B+', 103: 'C'}"
   ]
  },
  {
   "cell_type": "code",
   "execution_count": null,
   "id": "5a4f517f",
   "metadata": {},
   "outputs": [],
   "source": [
    "# Dictionary with mixed key types (generally not recommended for readability)\n",
    "mixed_keys = {\n",
    "    \"name\": \"Bob\",\n",
    "    1: \"one\",\n",
    "    (2, 3): \"a tuple key\" # Tuples can be keys because they are immutable\n",
    "}\n",
    "print(mixed_keys) # Output: {'name': 'Bob', 1: 'one', (2, 3): 'a tuple key'}"
   ]
  },
  {
   "cell_type": "code",
   "execution_count": null,
   "id": "be01400c",
   "metadata": {},
   "outputs": [],
   "source": [
    "# Dictionary using dict() constructor with keyword arguments\n",
    "animal = dict(type=\"dog\", breed=\"Labrador\", age=5)\n",
    "print(animal) # Output: {'type': 'dog', 'breed': 'Labrador', 'age': 5}"
   ]
  },
  {
   "cell_type": "code",
   "execution_count": null,
   "id": "11821eda",
   "metadata": {},
   "outputs": [],
   "source": [
    "# Dictionary from a list of tuples (each tuple is a key-value pair)\n",
    "items_list = [(\"apple\", 10), (\"banana\", 20), (\"cherry\", 30)]\n",
    "fruits_inventory = dict(items_list)\n",
    "print(fruits_inventory) # Output: {'apple': 10, 'banana': 20, 'cherry': 30}"
   ]
  },
  {
   "cell_type": "markdown",
   "id": "eda8117c",
   "metadata": {},
   "source": [
    "## 2. Accessing Dictionary Values"
   ]
  },
  {
   "cell_type": "code",
   "execution_count": null,
   "id": "897cb3c7",
   "metadata": {},
   "outputs": [],
   "source": [
    "person = {\n",
    "    \"name\": \"Alice\",\n",
    "    \"age\": 30,\n",
    "    \"city\": \"New York\"\n",
    "}\n",
    "\n",
    "print(person[\"name\"]) # Output: Alice\n",
    "print(person[\"age\"])  # Output: 30"
   ]
  },
  {
   "cell_type": "code",
   "execution_count": null,
   "id": "be9c8f12",
   "metadata": {},
   "outputs": [],
   "source": [
    "# Using the .get() method (recommended for safer access)\n",
    "# If the key doesn't exist, [] will raise a KeyError, while .get() returns None or a default value.\n",
    "print(person.get(\"city\"))     # Output: New York\n",
    "print(person.get(\"country\"))  # Output: None (key 'country' doesn't exist)\n",
    "print(person.get(\"zip_code\", \"N/A\")) # Output: N/A (provides a default value if key not found)"
   ]
  },
  {
   "cell_type": "markdown",
   "id": "0ac4da68",
   "metadata": {},
   "source": [
    "## 3. Modifying Dictionaries"
   ]
  },
  {
   "cell_type": "code",
   "execution_count": null,
   "id": "8a935f60",
   "metadata": {},
   "outputs": [
    {
     "name": "stdout",
     "output_type": "stream",
     "text": [
      "{'name': 'Alice', 'age': 31, 'city': 'New York'}\n"
     ]
    }
   ],
   "source": [
    "person = {\n",
    "    \"name\": \"Alice\",\n",
    "    \"age\": 30,\n",
    "    \"city\": \"New York\"\n",
    "}\n",
    "\n",
    "person[\"age\"] = 31 # Change Alice's age\n",
    "print(person) # Output: {'name': 'Alice', 'age': 31, 'city': 'New York'}"
   ]
  },
  {
   "cell_type": "code",
   "execution_count": null,
   "id": "8110f46b",
   "metadata": {},
   "outputs": [],
   "source": [
    "person = {\n",
    "    \"name\": \"Alice\",\n",
    "    \"age\": 30,\n",
    "    \"city\": \"New York\"\n",
    "}\n",
    "\n",
    "person[\"occupation\"] = \"Engineer\" # Add a new key-value pair\n",
    "print(person) # Output: {'name': 'Alice', 'age': 30, 'city': 'New York', 'occupation': 'Engineer'}"
   ]
  },
  {
   "cell_type": "code",
   "execution_count": null,
   "id": "b5e71eee",
   "metadata": {},
   "outputs": [],
   "source": [
    "person = {\n",
    "    \"name\": \"Alice\",\n",
    "    \"age\": 30,\n",
    "    \"city\": \"New York\"\n",
    "}\n",
    "\n",
    "del person[\"city\"]\n",
    "print(person) # Output: {'name': 'Alice', 'age': 30}"
   ]
  },
  {
   "cell_type": "code",
   "execution_count": null,
   "id": "e0625543",
   "metadata": {},
   "outputs": [],
   "source": [
    "person = {\n",
    "    \"name\": \"Alice\",\n",
    "    \"age\": 30,\n",
    "    \"city\": \"New York\"\n",
    "}\n",
    "\n",
    "removed_age = person.pop(\"age\")\n",
    "print(removed_age) # Output: 30\n",
    "print(person)      # Output: {'name': 'Alice', 'city': 'New York'}"
   ]
  },
  {
   "cell_type": "code",
   "execution_count": null,
   "id": "86464b7a",
   "metadata": {},
   "outputs": [],
   "source": [
    "# Using with a default value\n",
    "job = person.pop(\"occupation\", \"Unemployed\")\n",
    "print(job)     # Output: Unemployed (since 'occupation' was not found)\n",
    "print(person)  # Output: {'name': 'Alice', 'city': 'New York'}"
   ]
  },
  {
   "cell_type": "code",
   "execution_count": null,
   "id": "c4976f7e",
   "metadata": {},
   "outputs": [],
   "source": [
    "person = {\n",
    "    \"name\": \"Alice\",\n",
    "    \"age\": 30,\n",
    "    \"city\": \"New York\"\n",
    "}\n",
    "\n",
    "last_item = person.popitem()\n",
    "print(last_item) # Output: ('city', 'New York') (in Python 3.7+)\n",
    "print(person)    # Output: {'name': 'Alice', 'age': 30}"
   ]
  },
  {
   "cell_type": "code",
   "execution_count": null,
   "id": "6343906c",
   "metadata": {},
   "outputs": [],
   "source": [
    "person = {\"name\": \"Alice\", \"age\": 30}\n",
    "person.clear()\n",
    "print(person) # Output: {}"
   ]
  },
  {
   "cell_type": "code",
   "execution_count": null,
   "id": "25f886b3",
   "metadata": {},
   "outputs": [],
   "source": [
    "my_dict = {\"a\": 1, \"b\": 2}\n",
    "print(len(my_dict)) # Output: 2"
   ]
  },
  {
   "cell_type": "code",
   "execution_count": null,
   "id": "8d573991",
   "metadata": {},
   "outputs": [],
   "source": [
    "dict1 = {\"a\": 1, \"b\": 2}\n",
    "dict2 = {\"b\": 3, \"c\": 4}\n",
    "\n",
    "dict1.update(dict2)\n",
    "print(dict1) # Output: {'a': 1, 'b': 3, 'c': 4} ( 'b' was updated)"
   ]
  },
  {
   "cell_type": "code",
   "execution_count": null,
   "id": "0c334e89",
   "metadata": {},
   "outputs": [],
   "source": [
    "original_dict = {\"name\": \"Bob\", \"age\": 25}\n",
    "copied_dict = original_dict.copy()\n",
    "print(copied_dict) # Output: {'name': 'Bob', 'age': 25}"
   ]
  },
  {
   "cell_type": "code",
   "execution_count": null,
   "id": "eef9e5a6",
   "metadata": {},
   "outputs": [],
   "source": [
    "copied_dict[\"age\"] = 26\n",
    "print(original_dict) # Output: {'name': 'Bob', 'age': 25} (original unchanged)\n",
    "print(copied_dict)   # Output: {'name': 'Bob', 'age': 26}"
   ]
  },
  {
   "cell_type": "code",
   "execution_count": null,
   "id": "6b71a1b6",
   "metadata": {},
   "outputs": [],
   "source": [
    "keys = [\"k1\", \"k2\", \"k3\"]\n",
    "default_value = 0\n",
    "new_dict = dict.fromkeys(keys, default_value)\n",
    "print(new_dict) # Output: {'k1': 0, 'k2': 0, 'k3': 0}"
   ]
  },
  {
   "cell_type": "markdown",
   "id": "4541c4e1",
   "metadata": {},
   "source": [
    "## Set"
   ]
  },
  {
   "cell_type": "markdown",
   "id": "73bf7b77",
   "metadata": {},
   "source": [
    "A set is an unordered collection of unique and immutable elements. It's an abstract data type inspired by the mathematical concept of a finite set."
   ]
  },
  {
   "cell_type": "markdown",
   "id": "54a1ef1a",
   "metadata": {},
   "source": [
    "## 1. Creating Sets"
   ]
  },
  {
   "cell_type": "code",
   "execution_count": null,
   "id": "225956d4",
   "metadata": {},
   "outputs": [
    {
     "name": "stdout",
     "output_type": "stream",
     "text": [
      "set()\n"
     ]
    }
   ],
   "source": [
    "# Empty set\n",
    "# IMPORTANT: Use set() for an empty set, as {} creates an empty dictionary\n",
    "my_set = set()\n",
    "print(my_set) # Output: set()"
   ]
  },
  {
   "cell_type": "code",
   "execution_count": null,
   "id": "472a2a9b",
   "metadata": {},
   "outputs": [
    {
     "name": "stdout",
     "output_type": "stream",
     "text": [
      "{1, 2, 3, 4, 5}\n"
     ]
    }
   ],
   "source": [
    "# Set with initial elements\n",
    "numbers_set = {1, 2, 3, 4, 5}\n",
    "print(numbers_set) # Output: {1, 2, 3, 4, 5} (order might vary)"
   ]
  },
  {
   "cell_type": "code",
   "execution_count": null,
   "id": "17c178d2",
   "metadata": {},
   "outputs": [],
   "source": [
    "# Set from a list (duplicates are automatically removed)\n",
    "my_list = [1, 2, 2, 3, 4, 4, 5]\n",
    "unique_numbers = set(my_list)\n",
    "print(unique_numbers) # Output: {1, 2, 3, 4, 5}"
   ]
  },
  {
   "cell_type": "code",
   "execution_count": null,
   "id": "68a29687",
   "metadata": {},
   "outputs": [],
   "source": [
    "# Set with mixed immutable data types\n",
    "mixed_set = {1, \"hello\", 3.14, True, (1, 2)} # Tuples are immutable, so they can be in a set\n",
    "print(mixed_set) # Output: {1, 3.14, 'hello', (1, 2)} (True is usually represented as 1 in sets, so it might not show explicitly if 1 is present)"
   ]
  },
  {
   "cell_type": "markdown",
   "id": "cb184f10",
   "metadata": {},
   "source": [
    "## 2. Adding Elements to a Set"
   ]
  },
  {
   "cell_type": "code",
   "execution_count": null,
   "id": "d855f2da",
   "metadata": {},
   "outputs": [
    {
     "name": "stdout",
     "output_type": "stream",
     "text": [
      "{1, 2, 3, 4}\n",
      "{1, 2, 3, 4}\n"
     ]
    }
   ],
   "source": [
    "my_set = {1, 2, 3}\n",
    "my_set.add(4)\n",
    "print(my_set) # Output: {1, 2, 3, 4}\n",
    "\n",
    "my_set.add(2) # Trying to ad\n",
    "\n",
    "\n",
    "print(my_set) # Output: {1, 2, 3, 4} (no change)"
   ]
  },
  {
   "cell_type": "code",
   "execution_count": null,
   "id": "3e3124c2",
   "metadata": {},
   "outputs": [],
   "source": [
    "my_set = {1, 2, 3}\n",
    "my_set.update([4, 5, 6])\n",
    "print(my_set) # Output: {1, 2, 3, 4, 5, 6}\n",
    "\n",
    "my_set.update({5, 7, 8}) # Update with another set, duplicates ignored\n",
    "print(my_set) # Output: {1, 2, 3, 4, 5, 6, 7, 8}"
   ]
  },
  {
   "cell_type": "markdown",
   "id": "c2c3781f",
   "metadata": {},
   "source": [
    "## Removing Elements from a Set"
   ]
  },
  {
   "cell_type": "code",
   "execution_count": null,
   "id": "d7404d48",
   "metadata": {},
   "outputs": [],
   "source": [
    "my_set = {1, 2, 3, 4}\n",
    "my_set.remove(3)\n",
    "print(my_set) # Output: {1, 2, 4}\n",
    "\n",
    "# my_set.remove(99) # KeyError: 99"
   ]
  },
  {
   "cell_type": "code",
   "execution_count": null,
   "id": "6e5392ff",
   "metadata": {},
   "outputs": [],
   "source": [
    "my_set = {1, 2, 3, 4}\n",
    "my_set.discard(2)\n",
    "print(my_set) # Output: {1, 3, 4}\n",
    "\n",
    "my_set.discard(99) # No error, simply ignored\n",
    "print(my_set) # Output: {1, 3, 4}"
   ]
  },
  {
   "cell_type": "code",
   "execution_count": null,
   "id": "e8616b2d",
   "metadata": {},
   "outputs": [],
   "source": [
    "my_set = {1, 2, 3}\n",
    "removed_item = my_set.pop()\n",
    "print(f\"Removed: {removed_item}\")\n",
    "print(my_set) # Output will vary, e.g., Removed: 1, Set: {2, 3}"
   ]
  },
  {
   "cell_type": "code",
   "execution_count": null,
   "id": "c93fdbe6",
   "metadata": {},
   "outputs": [],
   "source": [
    "my_set = {1, 2, 3}\n",
    "my_set.clear()\n",
    "print(my_set) # Output: set()"
   ]
  },
  {
   "cell_type": "code",
   "execution_count": null,
   "id": "dd354dfe",
   "metadata": {},
   "outputs": [],
   "source": [
    "set_a = {1, 2, 3, 4}\n",
    "set_b = {3, 4, 5, 6}\n",
    "set_c = {1, 2}"
   ]
  },
  {
   "cell_type": "code",
   "execution_count": null,
   "id": "d1b3f9d1",
   "metadata": {},
   "outputs": [],
   "source": [
    "print(set_a | set_b)       # Output: {1, 2, 3, 4, 5, 6}\n",
    "print(set_a.union(set_b))  # Output: {1, 2, 3, 4, 5, 6}"
   ]
  },
  {
   "cell_type": "code",
   "execution_count": null,
   "id": "f872aac0",
   "metadata": {},
   "outputs": [],
   "source": [
    "print(set_a & set_b)              # Output: {3, 4}\n",
    "print(set_a.intersection(set_b))  # Output: {3, 4}"
   ]
  },
  {
   "cell_type": "code",
   "execution_count": null,
   "id": "5d6224a9",
   "metadata": {},
   "outputs": [],
   "source": [
    "print(set_a - set_b)              # Output: {1, 2}\n",
    "print(set_a.difference(set_b))    # Output: {1, 2}\n",
    "\n",
    "print(set_b - set_a)              # Output: {5, 6}"
   ]
  },
  {
   "cell_type": "code",
   "execution_count": null,
   "id": "85133b72",
   "metadata": {},
   "outputs": [],
   "source": [
    "print(set_a ^ set_b)                         # Output: {1, 2, 5, 6}\n",
    "print(set_a.symmetric_difference(set_b))     # Output: {1, 2, 5, 6}"
   ]
  },
  {
   "cell_type": "code",
   "execution_count": null,
   "id": "d4d055b8",
   "metadata": {},
   "outputs": [],
   "source": [
    "print(set_c <= set_a)            # Output: True (all elements of set_c are in set_a)\n",
    "print(set_a.issubset(set_c))     # Output: False"
   ]
  },
  {
   "cell_type": "code",
   "execution_count": null,
   "id": "4de732e5",
   "metadata": {},
   "outputs": [],
   "source": [
    "print(set_a >= set_c)            # Output: True (set_a contains all elements of set_c)\n",
    "print(set_c.issuperset(set_a))   # Output: False"
   ]
  },
  {
   "cell_type": "code",
   "execution_count": null,
   "id": "4a2eeb2c",
   "metadata": {},
   "outputs": [],
   "source": [
    "set_d = {7, 8}\n",
    "print(set_a.isdisjoint(set_b)) # Output: False (they share 3, 4)\n",
    "print(set_a.isdisjoint(set_d)) # Output: True (no common elements)"
   ]
  },
  {
   "cell_type": "code",
   "execution_count": null,
   "id": "13df31ef",
   "metadata": {},
   "outputs": [],
   "source": [
    "my_set = {1, 2, 3, 4}\n",
    "print(len(my_set)) # Output: 4"
   ]
  },
  {
   "cell_type": "code",
   "execution_count": null,
   "id": "08c3f78e",
   "metadata": {},
   "outputs": [],
   "source": [
    "my_set = {\"apple\", \"banana\", \"cherry\"}\n",
    "print(\"banana\" in my_set)    # Output: True\n",
    "print(\"grape\" not in my_set) # Output: True"
   ]
  },
  {
   "cell_type": "code",
   "execution_count": null,
   "id": "a8874aaf",
   "metadata": {},
   "outputs": [],
   "source": [
    "my_list = [1, 2, 2, 3, 1]\n",
    "unique_elements = list(set(my_list)) # Convert list to set (removes duplicates), then back to list\n",
    "print(unique_elements) # Output: [1, 2, 3] (order might vary)"
   ]
  },
  {
   "cell_type": "markdown",
   "id": "cd640c18",
   "metadata": {},
   "source": [
    "## Tasks"
   ]
  },
  {
   "cell_type": "markdown",
   "id": "a3e02de4",
   "metadata": {},
   "source": [
    "### **Python Data Types Practice Tasks**\n",
    "\n",
    "**Instructions:** For each task, write Python code to achieve the stated goal. Focus on creating, accessing, modifying, and using built-in methods of strings, numbers, booleans, lists, tuples, dictionaries.\n",
    "\n",
    "---\n",
    "\n",
    "**Task 1: Student Records (Strings, Ints, Lists, Booleans)**\n",
    "\n",
    "You are setting up initial records for a few students.\n",
    "\n",
    "1.  **Create a list** called `student_names` with exactly three student names (strings): \"Alice\", \"Bob\", \"Charlie\".\n",
    "2.  **Add a new student** named \"David\" to the very end of the `student_names` list.\n",
    "3.  **Get the name of the student at the second position** (index 1) in the `student_names` list and print it.\n",
    "4.  **Create a list** called `student_ages` with three corresponding ages (integers): 18, 19, 20.\n",
    "5.  **Change Bob's age** (the age at index 1 in `student_ages`) to 21. Print the updated `student_ages` list.\n",
    "6.  **Find the total number of students** currently recorded in `student_names` using a built-in function and print the result.\n",
    "7.  **Create a boolean variable** `is_enrolled` and assign `True` to it. Print `is_enrolled`.\n",
    "\n",
    "---\n",
    "\n",
    "**Task 2: Simple Product Catalog (Dictionaries, Floats, Strings)**\n",
    "\n",
    "You're creating a small, static catalog for a shop.\n",
    "\n",
    "1.  **Create a dictionary** called `product_catalog`. Add three products:\n",
    "    * \"Milk\" with price `3.49`\n",
    "    * \"Bread\" with price `2.99`\n",
    "    * \"Eggs\" with price `4.25`\n",
    "2.  **Add a new product** \"Cheese\" with a price of `7.50` to the `product_catalog` dictionary.\n",
    "3.  **Update the price** of \"Milk\" to `3.29`. Print the `product_catalog` to show the change.\n",
    "4.  **Retrieve and print the price** of \"Bread\" from the `product_catalog`.\n",
    "5.  **Use a dictionary method to get the value for 'Sugar'** from the `product_catalog`, providing a default value of `0.00` if 'Sugar' is not found. Print the result.\n",
    "6.  **Print all the product names (keys)** from the `product_catalog` using a dictionary method.\n",
    "\n",
    "---\n",
    "\n",
    "**Task 3: Unique IDs and Status (Sets, Tuples, Integers)**\n",
    "\n",
    "You need to manage unique identifiers and fixed data.\n",
    "\n",
    "1.  **Create a set** called `active_ids` and add the integers `101, 202, 303, 101` to it. Print the set to demonstrate uniqueness.\n",
    "2.  **Add a new ID** `404` to the `active_ids` set. Print the updated set.\n",
    "3.  **Remove the ID** `202` from the `active_ids` set using a method that *won't* raise an error if the ID isn't there. Print the set.\n",
    "4.  **Create another set** called `newly_added_ids` with `303, 505`.\n",
    "5.  **Find and print the union** of `active_ids` and `newly_added_ids`.\n",
    "6.  **Create a tuple** called `server_info` containing three fixed pieces of data: `(\"server_A\", \"192.168.1.1\", True)`. Print this tuple.\n",
    "7.  **Access and print the IP address** (the second element) from the `server_info` tuple.\n",
    "\n",
    "---\n",
    "\n",
    "**Task 4: Favorite Items (Lists, Strings, Tuples)**\n",
    "\n",
    "Practice organizing favorite items in different ways.\n",
    "\n",
    "1.  **Create a list** called `favorite_colors` with at least 4 different string colors.\n",
    "2.  **Access and print the first two colors** from `favorite_colors` using slicing.\n",
    "3.  **Replace the third color** in `favorite_colors` with a new color. Print the updated list.\n",
    "4.  **Create a tuple** called `favorite_numbers` with 5 different integer numbers.\n",
    "5.  **Access and print the last two numbers** from `favorite_numbers` using slicing.\n",
    "6.  **Try to change the first number** in `favorite_numbers` (this should cause an error - just write the line and add a comment indicating it will fail).\n",
    "7.  **Concatenate `favorite_colors` and `favorite_numbers`** into a single new list (not a tuple) and print it.\n",
    "\n",
    "---\n",
    "\n",
    "**Task 5: Simple User Data Storage (Dictionaries, Lists, Strings, Booleans)**\n",
    "\n",
    "Represent basic information for a single user.\n",
    "\n",
    "1.  **Create a dictionary** called `user_profile`. This dictionary should contain the following keys and values:\n",
    "    * `\"username\"`: (your choice of string)\n",
    "    * `\"is_admin\"`: (boolean, `True` or `False`)\n",
    "    * `\"last_login\"`: (a string representing a date, e.g., \"2023-04-15\")\n",
    "    * `\"preferred_genres\"`: (a list of at least two strings, e.g., `[\"sci-fi\", \"fantasy\"]`)\n",
    "2.  **Print the value associated with the \"username\" key**.\n",
    "3.  **Change the \"is_admin\" status** of the user in `user_profile` to its opposite boolean value (if `True`, change to `False`; if `False`, change to `True`). Print the updated `user_profile`.\n",
    "4.  **Add a new key-value pair** to `user_profile`: `\"email\"` with an email address string of your choice.\n",
    "5.  **Add a new genre** to the `\"preferred_genres\"` list inside the `user_profile` dictionary.\n",
    "6.  **Print the entire `user_profile` dictionary**."
   ]
  },
  {
   "cell_type": "code",
   "execution_count": null,
   "id": "016c9886",
   "metadata": {},
   "outputs": [
    {
     "name": "stdout",
     "output_type": "stream",
     "text": [
      "1. Initial student_names: ['Alice', 'Bob', 'Charlie']\n",
      "2. student_names after adding David: ['Alice', 'Bob', 'Charlie', 'David']\n",
      "3. Second student: Bob\n",
      "4. Initial student_ages: [18, 19, 20]\n",
      "5. student_ages after changing Bob's age: [18, 21, 20]\n",
      "6. Total number of students: 4\n",
      "7. is_enrolled status: True\n"
     ]
    }
   ],
   "source": [
    "# 1. Create a list called student_names with exactly three student names (strings): \"Alice\", \"Bob\", \"Charlie\".\n",
    "student_names = [\"Alice\", \"Bob\", \"Charlie\"]\n",
    "print(\"1. Initial student_names:\", student_names)\n",
    "\n",
    "# 2. Add a new student named \"David\" to the very en\n",
    "# d of the student_names list.\n",
    "student_names.append(\"David\")\n",
    "print(\"2. student_names after adding David:\", student_names)\n",
    "\n",
    "# 3. Get the name of the student at the second position (index 1) in the student_names list and print it.\n",
    "second_student = student_names[1]\n",
    "print(\"3. Second student:\", second_student)\n",
    "\n",
    "# 4. Create a list called student_ages with three corresponding ages (integers): 18, 19, 20.\n",
    "student_ages = [18, 19, 20]\n",
    "print(\"4. Initial student_ages:\", student_ages)\n",
    "\n",
    "# 5. Change Bob's age (the age at index 1 in student_ages) to 21. Print the updated student_ages list.\n",
    "student_ages[1] = 21\n",
    "print(\"5. student_ages after changing Bob's age:\", student_ages)\n",
    "\n",
    "# 6. Find the total number of students currently recorded in student_names using a built-in function and print the result.\n",
    "total_students = len(student_names)\n",
    "print(\"6. Total number of students:\", total_students)\n",
    "\n",
    "# 7. Create a boolean variable is_enrolled and assign True to it. Print is_enrolled.\n",
    "is_enrolled = True\n",
    "print(\"7. is_enrolled status:\", is_enrolled)"
   ]
  },
  {
   "cell_type": "code",
   "execution_count": null,
   "id": "8c7eb998",
   "metadata": {},
   "outputs": [
    {
     "name": "stdout",
     "output_type": "stream",
     "text": [
      "1. Initial product_catalog: {'Milk': 3.49, 'Bread': 2.99, 'Eggs': 4.25}\n",
      "2. product_catalog after adding Cheese: {'Milk': 3.49, 'Bread': 2.99, 'Eggs': 4.25, 'Cheese': 7.5}\n",
      "3. product_catalog after updating Milk price: {'Milk': 3.29, 'Bread': 2.99, 'Eggs': 4.25, 'Cheese': 7.5}\n",
      "4. Price of Bread: 2.99\n",
      "5. Price of Sugar (with default): 0.0\n",
      "6. Product names (keys): ['Milk', 'Bread', 'Eggs', 'Cheese']\n"
     ]
    }
   ],
   "source": [
    "# 1. Create a dictionary called product_catalog. Add three products:\n",
    "#    \"Milk\" with price 3.49\n",
    "#    \"Bread\" with price 2.99\n",
    "#    \"Eggs\" with price 4.25\n",
    "product_catalog = {\n",
    "    \"Milk\": 3.49,\n",
    "    \"Bread\": 2.99,\n",
    "    \"Eggs\": 4.25\n",
    "}\n",
    "print(\"1. Initial product_catalog:\", product_catalog)\n",
    "\n",
    "# 2. Add a new product \"Cheese\" with a price of 7.50 to the product_catalog dictionary.\n",
    "product_catalog[\"Cheese\"] = 7.50\n",
    "print(\"2. product_catalog after adding Cheese:\", product_catalog)\n",
    "\n",
    "# 3. Update the price of \"Milk\" to 3.29. Print the product_catalog to show the change.\n",
    "product_catalog[\"Milk\"] = 3.29\n",
    "print(\"3. product_catalog after updating Milk price:\", product_catalog)\n",
    "\n",
    "# 4. Retrieve and print the price of \"Bread\" from the product_catalog.\n",
    "bread_price = product_catalog[\"Bread\"]\n",
    "print(\"4. Price of Bread:\", bread_price)\n",
    "\n",
    "# 5. Use a dictionary method to get the value for 'Sugar' from the product_catalog,\n",
    "#    providing a default value of 0.00 if 'Sugar' is not found. Print the result.\n",
    "sugar_price = product_catalog.get(\"Sugar\", 0.00)\n",
    "print(\"5. Price of Sugar (with default):\", sugar_price)\n",
    "\n",
    "# 6. Print all the product names (keys) from the product_catalog using a dictionary method.\n",
    "product_names = product_catalog.keys()\n",
    "print(\"6. Product names (keys):\", list(product_names)) # Convert to list for clear printing"
   ]
  },
  {
   "cell_type": "code",
   "execution_count": null,
   "id": "4711817e",
   "metadata": {},
   "outputs": [],
   "source": [
    "# 1. Create a set called active_ids and add the integers 101, 202, 303, 101 to it. Print the set to demonstrate uniqueness.\n",
    "active_ids = {101, 202, 303, 101} # 101 is duplicated but set stores it only once\n",
    "print(\"1. Initial active_ids (duplicates removed):\", active_ids)\n",
    "\n",
    "# 2. Add a new ID 404 to the active_ids set. Print the updated set.\n",
    "active_ids.add(404)\n",
    "print(\"2. active_ids after adding 404:\", active_ids)\n",
    "\n",
    "# 3. Remove the ID 202 from the active_ids set using a method that won't raise an error if the ID isn't there. Print the set.\n",
    "active_ids.discard(202)\n",
    "print(\"3. active_ids after discarding 202:\", active_ids)\n",
    "active_ids.discard(999) # Demonstrating discard without error\n",
    "print(\"   active_ids after trying to discard non-existent 999:\", active_ids)\n",
    "\n",
    "\n",
    "# 4. Create another set called newly_added_ids with 303, 505.\n",
    "newly_added_ids = {303, 505}\n",
    "print(\"4. newly_added_ids:\", newly_added_ids)\n",
    "\n",
    "# 5. Find and print the union of active_ids and newly_added_ids.\n",
    "union_ids = active_ids.union(newly_added_ids)\n",
    "print(\"5. Union of active_ids and newly_added_ids:\", union_ids)\n",
    "\n",
    "# 6. Find and print the intersection of active_ids and newly_added_ids.\n",
    "intersection_ids = active_ids.intersection(newly_added_ids)\n",
    "print(\"6. Intersection of active_ids and newly_added_ids:\", intersection_ids)\n",
    "\n",
    "# 7. Create a tuple called server_info containing three fixed pieces of data: (\"server_A\", \"192.168.1.1\", True). Print this tuple.\n",
    "server_info = (\"server_A\", \"192.168.1.1\", True)\n",
    "print(\"7. server_info tuple:\", server_info)\n",
    "\n",
    "# 8. Access and print the IP address (the second element) from the server_info tuple.\n",
    "ip_address = server_info[1]\n",
    "print(\"8. IP address from server_info:\", ip_address)"
   ]
  },
  {
   "cell_type": "code",
   "execution_count": null,
   "id": "22ba3f8e",
   "metadata": {},
   "outputs": [],
   "source": [
    "# 1. Create a list called favorite_colors with at least 4 different string colors.\n",
    "favorite_colors = [\"Red\", \"Blue\", \"Green\", \"Yellow\", \"Purple\"]\n",
    "print(\"1. Initial favorite_colors:\", favorite_colors)\n",
    "\n",
    "# 2. Access and print the first two colors from favorite_colors using slicing.\n",
    "first_two_colors = favorite_colors[0:2] # or favorite_colors[:2]\n",
    "print(\"2. First two colors:\", first_two_colors)\n",
    "\n",
    "# 3. Replace the third color in favorite_colors with a new color. Print the updated list.\n",
    "favorite_colors[2] = \"Orange\" # Green (index 2) is replaced\n",
    "print(\"3. favorite_colors after replacing third color:\", favorite_colors)\n",
    "\n",
    "# 4. Create a tuple called favorite_numbers with 5 different integer numbers.\n",
    "favorite_numbers = (7, 13, 21, 5, 42)\n",
    "print(\"4. favorite_numbers tuple:\", favorite_numbers)\n",
    "\n",
    "# 5. Access and print the last two numbers from favorite_numbers using slicing.\n",
    "last_two_numbers = favorite_numbers[-2:]\n",
    "print(\"5. Last two numbers:\", last_two_numbers)\n",
    "\n",
    "# 6. Try to change the first number in favorite_numbers (this should cause an error - just write the line and add a comment indicating it will fail).\n",
    "# favorite_numbers[0] = 100 # This line would cause a TypeError: 'tuple' object does not support item assignment\n",
    "print(\"6. Attempting to change a tuple element (this line would cause a TypeError if uncommented): favorite_numbers[0] = 100\")\n",
    "\n",
    "# 7. Concatenate favorite_colors and favorite_numbers into a single new list (not a tuple) and print it.\n",
    "combined_list = favorite_colors + list(favorite_numbers) # Convert tuple to list for concatenation into a list\n",
    "print(\"7. Combined list of colors and numbers:\", combined_list)"
   ]
  },
  {
   "cell_type": "code",
   "execution_count": null,
   "id": "bb82d8e5",
   "metadata": {},
   "outputs": [],
   "source": [
    "# 1. Create a dictionary called user_profile. This dictionary should contain the following keys and values:\n",
    "#    \"username\": (your choice of string)\n",
    "#    \"is_admin\": (boolean, True or False)\n",
    "#    \"last_login\": (a string representing a date, e.g., \"2023-04-15\")\n",
    "#    \"preferred_genres\": (a list of at least two strings, e.g., [\"sci-fi\", \"fantasy\"])\n",
    "user_profile = {\n",
    "    \"username\": \"coder_kid\",\n",
    "    \"is_admin\": False,\n",
    "    \"last_login\": \"2024-05-25\",\n",
    "    \"preferred_genres\": [\"action\", \"comedy\"]\n",
    "}\n",
    "print(\"1. Initial user_profile:\", user_profile)\n",
    "\n",
    "# 2. Print the value associated with the \"username\" key.\n",
    "username_value = user_profile[\"username\"]\n",
    "print(\"2. Username:\", username_value)\n",
    "\n",
    "# 3. Change the \"is_admin\" status of the user in user_profile to its opposite boolean value\n",
    "#    (if True, change to False; if False, change to True). Print the updated user_profile.\n",
    "# This requires a bit of a trick without 'if'. We can use not operator or direct assignment.\n",
    "user_profile[\"is_admin\"] = not user_profile[\"is_admin\"] # If it was False, it becomes True. If True, becomes False.\n",
    "print(\"3. user_profile after toggling is_admin:\", user_profile)\n",
    "\n",
    "# 4. Add a new key-value pair to user_profile: \"email\" with an email address string of your choice.\n",
    "user_profile[\"email\"] = \"coder.kid@example.com\"\n",
    "print(\"4. user_profile after adding email:\", user_profile)\n",
    "\n",
    "# 5. Add a new genre to the \"preferred_genres\" list inside the user_profile dictionary.\n",
    "user_profile[\"preferred_genres\"].append(\"thriller\")\n",
    "print(\"5. user_profile after adding a new genre:\", user_profile)\n",
    "\n",
    "# 6. Print the entire user_profile dictionary.\n",
    "print(\"6. Final user_profile:\", user_profile)"
   ]
  }
 ],
 "metadata": {
  "kernelspec": {
   "display_name": "base",
   "language": "python",
   "name": "python3"
  },
  "language_info": {
   "codemirror_mode": {
    "name": "ipython",
    "version": 3
   },
   "file_extension": ".py",
   "mimetype": "text/x-python",
   "name": "python",
   "nbconvert_exporter": "python",
   "pygments_lexer": "ipython3",
   "version": "3.12.10"
  }
 },
 "nbformat": 4,
 "nbformat_minor": 5
}
