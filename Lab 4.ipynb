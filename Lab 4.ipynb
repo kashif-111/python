{
 "cells": [
  {
   "cell_type": "markdown",
   "id": "70dda7cb",
   "metadata": {},
   "source": [
    "### Error Handling in Python"
   ]
  },
  {
   "cell_type": "markdown",
   "id": "43a08609",
   "metadata": {},
   "source": [
    "Errors are inevitable in programming, but Python provides powerful tools to handle exceptions gracefully and keep your programs running smoothly."
   ]
  },
  {
   "cell_type": "markdown",
   "id": "f99e5299",
   "metadata": {},
   "source": [
    "## 1. Types of Errors in Python"
   ]
  },
  {
   "cell_type": "markdown",
   "id": "e842e3e7",
   "metadata": {},
   "source": [
    "### a) Syntax Errors"
   ]
  },
  {
   "cell_type": "markdown",
   "id": "dff74a47",
   "metadata": {},
   "source": [
    "Occur when Python cannot understand your code."
   ]
  },
  {
   "cell_type": "code",
   "execution_count": 1,
   "id": "d9d6026f",
   "metadata": {},
   "outputs": [
    {
     "ename": "SyntaxError",
     "evalue": "unexpected EOF while parsing (4113483661.py, line 1)",
     "output_type": "error",
     "traceback": [
      "\u001b[1;36m  Cell \u001b[1;32mIn[1], line 1\u001b[1;36m\u001b[0m\n\u001b[1;33m    print(\"Hello\"  # Missing closing parenthesis\u001b[0m\n\u001b[1;37m                                                ^\u001b[0m\n\u001b[1;31mSyntaxError\u001b[0m\u001b[1;31m:\u001b[0m unexpected EOF while parsing\n"
     ]
    }
   ],
   "source": [
    "print(\"Hello\"  # Missing closing parenthesis"
   ]
  },
  {
   "cell_type": "markdown",
   "id": "35e953e8",
   "metadata": {},
   "source": [
    "### b) Runtime Errors (Exceptions)"
   ]
  },
  {
   "cell_type": "markdown",
   "id": "c8b804bd",
   "metadata": {},
   "source": [
    "Occur during execution (e.g., dividing by zero, accessing a non-existent file)."
   ]
  },
  {
   "cell_type": "code",
   "execution_count": 2,
   "id": "1c9d3480",
   "metadata": {},
   "outputs": [
    {
     "ename": "ZeroDivisionError",
     "evalue": "division by zero",
     "output_type": "error",
     "traceback": [
      "\u001b[1;31m---------------------------------------------------------------------------\u001b[0m",
      "\u001b[1;31mZeroDivisionError\u001b[0m                         Traceback (most recent call last)",
      "Cell \u001b[1;32mIn[2], line 1\u001b[0m\n\u001b[1;32m----> 1\u001b[0m \u001b[38;5;28mprint\u001b[39m(\u001b[38;5;241;43m10\u001b[39;49m\u001b[43m \u001b[49m\u001b[38;5;241;43m/\u001b[39;49m\u001b[43m \u001b[49m\u001b[38;5;241;43m0\u001b[39;49m)\n",
      "\u001b[1;31mZeroDivisionError\u001b[0m: division by zero"
     ]
    }
   ],
   "source": [
    "print(10 / 0)  # ZeroDivisionError"
   ]
  },
  {
   "cell_type": "markdown",
   "id": "ec0ecaca",
   "metadata": {},
   "source": [
    "### c) Logical Errors"
   ]
  },
  {
   "cell_type": "markdown",
   "id": "bae0831a",
   "metadata": {},
   "source": [
    "Code runs but produces wrong results (hardest to debug)."
   ]
  },
  {
   "cell_type": "code",
   "execution_count": 3,
   "id": "f4ba4498",
   "metadata": {},
   "outputs": [],
   "source": [
    "def add(a, b):\n",
    "    return a - b  # Logical error (should be a + b)"
   ]
  },
  {
   "cell_type": "markdown",
   "id": "8280f930",
   "metadata": {},
   "source": [
    "### 2. Common Built-in Exceptions"
   ]
  },
  {
   "cell_type": "markdown",
   "id": "3eb9bc77",
   "metadata": {},
   "source": [
    "**Exception  ||\tCause**\\\n",
    "ZeroDivisionError ||\tDivision by zero\\\n",
    "TypeError\t||  Wrong data type (e.g., \"5\" + 3)\\\n",
    "ValueError\t|| Invalid value (e.g., int(\"abc\"))\\\n",
    "IndexError\t|| List index out of range\\\n",
    "KeyError\t|| Dictionary key not found\\\n",
    "FileNotFoundError\t|| File does not exist\\\n",
    "ImportError\t|| Module not found\\"
   ]
  },
  {
   "cell_type": "markdown",
   "id": "560674a6",
   "metadata": {},
   "source": [
    "## 3. Handling Exceptions: try, except, else, finally"
   ]
  },
  {
   "cell_type": "code",
   "execution_count": 5,
   "id": "f9694f0b",
   "metadata": {},
   "outputs": [
    {
     "ename": "IndentationError",
     "evalue": "expected an indented block (3752381125.py, line 3)",
     "output_type": "error",
     "traceback": [
      "\u001b[1;36m  Cell \u001b[1;32mIn[5], line 3\u001b[1;36m\u001b[0m\n\u001b[1;33m    except ExceptionType:\u001b[0m\n\u001b[1;37m    ^\u001b[0m\n\u001b[1;31mIndentationError\u001b[0m\u001b[1;31m:\u001b[0m expected an indented block\n"
     ]
    }
   ],
   "source": [
    "try:\n",
    "    # Risky code\n",
    "except ExceptionType:\n",
    "    # Handle error\n",
    "else:\n",
    "    # Runs if no error\n",
    "finally:\n",
    "    # Always runs"
   ]
  },
  {
   "cell_type": "markdown",
   "id": "4e454723",
   "metadata": {},
   "source": [
    "### Handling Division by Zero"
   ]
  },
  {
   "cell_type": "code",
   "execution_count": 6,
   "id": "34b53e6e",
   "metadata": {},
   "outputs": [
    {
     "name": "stdout",
     "output_type": "stream",
     "text": [
      "Cannot divide by zero!\n",
      "Execution completed.\n"
     ]
    }
   ],
   "source": [
    "try:\n",
    "    result = 10 / 0\n",
    "except ZeroDivisionError:\n",
    "    print(\"Cannot divide by zero!\")\n",
    "else:\n",
    "    print(\"Result:\", result)\n",
    "finally:\n",
    "    print(\"Execution completed.\")"
   ]
  },
  {
   "cell_type": "markdown",
   "id": "f508b9cb",
   "metadata": {},
   "source": [
    "### Handling Multiple Exceptions"
   ]
  },
  {
   "cell_type": "code",
   "execution_count": 9,
   "id": "a3aff0aa",
   "metadata": {},
   "outputs": [
    {
     "name": "stdout",
     "output_type": "stream",
     "text": [
      "Enter a number: a\n",
      "Invalid input! Enter a number.\n"
     ]
    }
   ],
   "source": [
    "try:\n",
    "    num = int(input(\"Enter a number: \"))\n",
    "    print(10 / num)\n",
    "except ValueError:\n",
    "    print(\"Invalid input! Enter a number.\")\n",
    "except ZeroDivisionError:\n",
    "    print(\"Cannot divide by zero!\")"
   ]
  },
  {
   "cell_type": "code",
   "execution_count": null,
   "id": "99a10cbc",
   "metadata": {},
   "outputs": [],
   "source": []
  }
 ],
 "metadata": {
  "kernelspec": {
   "display_name": "Python 3 (ipykernel)",
   "language": "python",
   "name": "python3"
  },
  "language_info": {
   "codemirror_mode": {
    "name": "ipython",
    "version": 3
   },
   "file_extension": ".py",
   "mimetype": "text/x-python",
   "name": "python",
   "nbconvert_exporter": "python",
   "pygments_lexer": "ipython3",
   "version": "3.8.18"
  }
 },
 "nbformat": 4,
 "nbformat_minor": 5
}
