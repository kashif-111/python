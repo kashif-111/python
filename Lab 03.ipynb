{
 "cells": [
  {
   "cell_type": "markdown",
   "id": "55217651",
   "metadata": {},
   "source": [
    "## **1. Defining a Function**"
   ]
  },
  {
   "cell_type": "markdown",
   "id": "c7d46edd",
   "metadata": {},
   "source": [
    "### **Basic Syntax**"
   ]
  },
  {
   "cell_type": "code",
   "execution_count": 1,
   "id": "62ecd8dd",
   "metadata": {},
   "outputs": [],
   "source": [
    "def function_name(parameters):\n",
    "    \"\"\"Docstring (optional)\"\"\"\n",
    "    # Code to execute\n",
    "    return result  # Optional"
   ]
  },
  {
   "cell_type": "markdown",
   "id": "bab601ba",
   "metadata": {},
   "source": [
    "### **Simple Function**"
   ]
  },
  {
   "cell_type": "code",
   "execution_count": 2,
   "id": "f97a5540",
   "metadata": {},
   "outputs": [
    {
     "name": "stdout",
     "output_type": "stream",
     "text": [
      "Hello, World!\n"
     ]
    }
   ],
   "source": [
    "def greet():\n",
    "    print(\"Hello, World!\")\n",
    "\n",
    "greet()  # Output: Hello, World!"
   ]
  },
  {
   "cell_type": "markdown",
   "id": "ab9fc910",
   "metadata": {},
   "source": [
    "## 2. Function Parameters"
   ]
  },
  {
   "cell_type": "markdown",
   "id": "62378032",
   "metadata": {},
   "source": [
    "### **a) Positional Arguments (Required)**"
   ]
  },
  {
   "cell_type": "code",
   "execution_count": 3,
   "id": "fd922ed5",
   "metadata": {},
   "outputs": [
    {
     "name": "stdout",
     "output_type": "stream",
     "text": [
      "8\n"
     ]
    }
   ],
   "source": [
    "def add(a, b):\n",
    "    return a + b\n",
    "\n",
    "print(add(3, 5))  # Output: 8"
   ]
  },
  {
   "cell_type": "markdown",
   "id": "7b17a87c",
   "metadata": {},
   "source": [
    "### **b) Default Arguments (Optional)**"
   ]
  },
  {
   "cell_type": "code",
   "execution_count": 4,
   "id": "7469463e",
   "metadata": {},
   "outputs": [
    {
     "name": "stdout",
     "output_type": "stream",
     "text": [
      "9\n",
      "27\n"
     ]
    }
   ],
   "source": [
    "def power(num, exponent=2):\n",
    "    return num ** exponent\n",
    "\n",
    "print(power(3))     # Output: 9 (uses default exponent=2)\n",
    "print(power(3, 3))  # Output: 27"
   ]
  },
  {
   "cell_type": "markdown",
   "id": "7117b04d",
   "metadata": {},
   "source": [
    "### **c) Keyword Arguments (Named Parameters)**"
   ]
  },
  {
   "cell_type": "code",
   "execution_count": 5,
   "id": "22c0b16d",
   "metadata": {},
   "outputs": [
    {
     "name": "stdout",
     "output_type": "stream",
     "text": [
      "Alice is 25 years old.\n"
     ]
    }
   ],
   "source": [
    "def introduce(name, age):\n",
    "    print(f\"{name} is {age} years old.\")\n",
    "\n",
    "introduce(age=25, name=\"Alice\")  # Output: Alice is 25 years old."
   ]
  },
  {
   "cell_type": "markdown",
   "id": "75aa7690",
   "metadata": {},
   "source": [
    "### **d) Arbitrary Arguments** (*args and **kwargs)"
   ]
  },
  {
   "cell_type": "markdown",
   "id": "38efeefc",
   "metadata": {},
   "source": [
    "***args** → Accepts any number of positional arguments (stored as a tuple).\n",
    "\n",
    "****kwargs** → Accepts any number of keyword arguments (stored as a dictionary)."
   ]
  },
  {
   "cell_type": "code",
   "execution_count": 7,
   "id": "2afbc396",
   "metadata": {},
   "outputs": [
    {
     "name": "stdout",
     "output_type": "stream",
     "text": [
      "Positional args: (1, 2, 3)\n",
      "Keyword args: {'name': 'Alice', 'age': 25}\n"
     ]
    }
   ],
   "source": [
    "def print_args(*args, **kwargs):\n",
    "    print(\"Positional args:\", args)\n",
    "    print(\"Keyword args:\", kwargs)\n",
    "\n",
    "print_args(1, 2, 3, name=\"Alice\", age=25)"
   ]
  },
  {
   "cell_type": "markdown",
   "id": "95600b30",
   "metadata": {},
   "source": [
    "## **3. Return Statement**"
   ]
  },
  {
   "cell_type": "markdown",
   "id": "1adaecdf",
   "metadata": {},
   "source": [
    "A function can return a value (or None if no return is specified).\n",
    "\n",
    "Multiple values can be returned as a tuple."
   ]
  },
  {
   "cell_type": "code",
   "execution_count": 8,
   "id": "e2cab612",
   "metadata": {},
   "outputs": [
    {
     "name": "stdout",
     "output_type": "stream",
     "text": [
      "9 27\n"
     ]
    }
   ],
   "source": [
    "def square_and_cube(n):\n",
    "    return n ** 2, n ** 3\n",
    "\n",
    "sq, cube = square_and_cube(3)\n",
    "print(sq, cube)  # Output: 9 27"
   ]
  },
  {
   "cell_type": "markdown",
   "id": "b775cb77",
   "metadata": {},
   "source": [
    "## **4. Variable Scope**"
   ]
  },
  {
   "cell_type": "markdown",
   "id": "8a2c7a2b",
   "metadata": {},
   "source": [
    "**Local variables** → Inside a function (not accessible outside).\n",
    "\n",
    "**Global variables** → Defined outside functions (accessible everywhere)."
   ]
  },
  {
   "cell_type": "code",
   "execution_count": 9,
   "id": "698c4bc7",
   "metadata": {},
   "outputs": [
    {
     "name": "stdout",
     "output_type": "stream",
     "text": [
      "15\n"
     ]
    },
    {
     "ename": "NameError",
     "evalue": "name 'y' is not defined",
     "output_type": "error",
     "traceback": [
      "\u001b[1;31m---------------------------------------------------------------------------\u001b[0m",
      "\u001b[1;31mNameError\u001b[0m                                 Traceback (most recent call last)",
      "Cell \u001b[1;32mIn[9], line 8\u001b[0m\n\u001b[0;32m      5\u001b[0m     \u001b[38;5;28mprint\u001b[39m(x \u001b[38;5;241m+\u001b[39m y)  \u001b[38;5;66;03m# Can access global 'x'\u001b[39;00m\n\u001b[0;32m      7\u001b[0m test()      \u001b[38;5;66;03m# Output: 15\u001b[39;00m\n\u001b[1;32m----> 8\u001b[0m \u001b[38;5;28mprint\u001b[39m(\u001b[43my\u001b[49m)\n",
      "\u001b[1;31mNameError\u001b[0m: name 'y' is not defined"
     ]
    }
   ],
   "source": [
    "x = 10  # Global variable\n",
    "\n",
    "def test():\n",
    "    y = 5  # Local variable\n",
    "    print(x + y)  # Can access global 'x'\n",
    "\n",
    "test()      # Output: 15\n",
    "print(y)    # Error! 'y' is local to test()"
   ]
  },
  {
   "cell_type": "markdown",
   "id": "a5aa7c92",
   "metadata": {},
   "source": [
    "### **Modifying Global Variables Inside a Function**"
   ]
  },
  {
   "cell_type": "code",
   "execution_count": 10,
   "id": "688c16fc",
   "metadata": {},
   "outputs": [
    {
     "name": "stdout",
     "output_type": "stream",
     "text": [
      "20\n"
     ]
    }
   ],
   "source": [
    "x = 10\n",
    "\n",
    "def change_x():\n",
    "    global x\n",
    "    x = 20\n",
    "\n",
    "change_x()\n",
    "print(x)  # Output: 20"
   ]
  },
  {
   "cell_type": "markdown",
   "id": "3c4346c5",
   "metadata": {},
   "source": [
    "## **5. Lambda Functions (Anonymous Functions)**"
   ]
  },
  {
   "cell_type": "markdown",
   "id": "ec884a99",
   "metadata": {},
   "source": [
    "Short, one-line functions without a name.\n",
    "\n",
    "Syntax: lambda arguments: expression"
   ]
  },
  {
   "cell_type": "code",
   "execution_count": 12,
   "id": "7436eadf",
   "metadata": {},
   "outputs": [
    {
     "name": "stdout",
     "output_type": "stream",
     "text": [
      "25\n"
     ]
    }
   ],
   "source": [
    "square = lambda x: x * x\n",
    "print(square(5))  # Output: 25"
   ]
  },
  {
   "cell_type": "code",
   "execution_count": 13,
   "id": "54cd4057",
   "metadata": {},
   "outputs": [
    {
     "name": "stdout",
     "output_type": "stream",
     "text": [
      "[1, 4, 9, 16]\n"
     ]
    }
   ],
   "source": [
    "# Using lambda with built-in functions\n",
    "numbers = [1, 2, 3, 4]\n",
    "squared = list(map(lambda x: x ** 2, numbers))\n",
    "print(squared)  # Output: [1, 4, 9, 16]"
   ]
  },
  {
   "cell_type": "markdown",
   "id": "b8b4c14d",
   "metadata": {},
   "source": [
    "## **6. Recursion (Function Calling Itself)**"
   ]
  },
  {
   "cell_type": "markdown",
   "id": "55c32859",
   "metadata": {},
   "source": [
    "A function can call itself (useful for problems like factorials, Fibonacci series)."
   ]
  },
  {
   "cell_type": "code",
   "execution_count": 14,
   "id": "23a096bc",
   "metadata": {},
   "outputs": [
    {
     "name": "stdout",
     "output_type": "stream",
     "text": [
      "120\n"
     ]
    }
   ],
   "source": [
    "def factorial(n):\n",
    "    if n == 1:\n",
    "        return 1\n",
    "    else:\n",
    "        return n * factorial(n - 1)\n",
    "\n",
    "print(factorial(5))  # Output: 120 (5! = 5*4*3*2*1)"
   ]
  }
 ],
 "metadata": {
  "kernelspec": {
   "display_name": "Python 3 (ipykernel)",
   "language": "python",
   "name": "python3"
  },
  "language_info": {
   "codemirror_mode": {
    "name": "ipython",
    "version": 3
   },
   "file_extension": ".py",
   "mimetype": "text/x-python",
   "name": "python",
   "nbconvert_exporter": "python",
   "pygments_lexer": "ipython3",
   "version": "3.8.18"
  }
 },
 "nbformat": 4,
 "nbformat_minor": 5
}
